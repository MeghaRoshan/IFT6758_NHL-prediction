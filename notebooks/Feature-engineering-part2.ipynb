{
 "cells": [
  {
   "cell_type": "markdown",
   "id": "dedd5bb0-0c41-4e99-9e13-0aabaeac9bba",
   "metadata": {},
   "source": [
    "#  Feature Engineering II"
   ]
  },
  {
   "cell_type": "code",
   "execution_count": 32,
   "id": "75cc2237-00c1-44a8-8bba-da1e119a7ae1",
   "metadata": {
    "tags": []
   },
   "outputs": [
    {
     "name": "stdout",
     "output_type": "stream",
     "text": [
      "The autoreload extension is already loaded. To reload it, use:\n",
      "  %reload_ext autoreload\n"
     ]
    }
   ],
   "source": [
    "%load_ext autoreload\n",
    "%autoreload 2"
   ]
  },
  {
   "cell_type": "code",
   "execution_count": 33,
   "id": "9a7a6cf2-8e2e-4610-98f6-9c2f9d951610",
   "metadata": {},
   "outputs": [],
   "source": [
    "import pandas as pd\n",
    "import plotly.express as px\n",
    "import plotly.graph_objects as go\n",
    "import numpy as np\n",
    "import math\n",
    "import seaborn as sns"
   ]
  },
  {
   "cell_type": "code",
   "execution_count": 34,
   "id": "22460903-3ac8-4708-9bf1-fa4e6fb3b1ed",
   "metadata": {},
   "outputs": [],
   "source": [
    "pd.set_option('display.max_columns', None)"
   ]
  },
  {
   "cell_type": "code",
   "execution_count": 35,
   "id": "067a7fed-9ed0-44d0-8e19-a86acea0965e",
   "metadata": {},
   "outputs": [],
   "source": [
    "from ift6758.data.Feature_Engineering2 import tidyData, getPreviousEvent"
   ]
  },
  {
   "cell_type": "code",
   "execution_count": 36,
   "id": "04b49687-9cbf-4988-bba9-fd910ce8651e",
   "metadata": {},
   "outputs": [],
   "source": [
    "from ift6758.data.Feature_Engineering1 import combineAllFeatures"
   ]
  },
  {
   "cell_type": "markdown",
   "id": "841bf6a5-c435-4a59-96ae-6e2bbfb0322f",
   "metadata": {},
   "source": [
    "If the above doesn't work for you, make sure you've installed the repo as specified in the readme file. \n",
    "Essentially you must make sure that your environment is setup (either through conda or virtualenv), and then install it using:\n",
    "\n",
    "```bash\n",
    "pip install -e /path/to/repo \n",
    "```\n",
    "\n"
   ]
  },
  {
   "cell_type": "markdown",
   "id": "990883b9-5cc1-4200-a822-0967aa787624",
   "metadata": {},
   "source": [
    "Get the new tidied data : "
   ]
  },
  {
   "cell_type": "code",
   "execution_count": 37,
   "id": "51c6d9ac-4e24-47aa-b273-8b1b1cb57c7c",
   "metadata": {},
   "outputs": [],
   "source": [
    "years = (2015,2016, 2017,2018)\n",
    "for i in years : \n",
    "    tidyData(i)"
   ]
  },
  {
   "cell_type": "code",
   "execution_count": 38,
   "id": "354a2fcb-c580-47ed-bdfa-c9b590a4d311",
   "metadata": {},
   "outputs": [],
   "source": [
    "df_2015_2016 = pd.read_csv('./2015Milestone2Dataset.csv')\n",
    "df_2016_2017 = pd.read_csv('./2016Milestone2Dataset.csv')\n",
    "df_2017_2018 = pd.read_csv('./2017Milestone2Dataset.csv')\n",
    "df_2018_2019 = pd.read_csv('./2018Milestone2Dataset.csv')"
   ]
  },
  {
   "cell_type": "markdown",
   "id": "64d1e26e-e96f-4efc-be6b-9a5713fe3ef5",
   "metadata": {},
   "source": [
    "cocatenate data of all the seasons : "
   ]
  },
  {
   "cell_type": "code",
   "execution_count": 39,
   "id": "08c62c97-c2a2-4e87-bd8b-712b74552816",
   "metadata": {},
   "outputs": [],
   "source": [
    "training_df =  pd.concat([df_2015_2016, df_2016_2017,df_2017_2018,df_2018_2019])"
   ]
  },
  {
   "cell_type": "markdown",
   "id": "2bfd7c9f-5b84-4c0d-8bfe-83242213f685",
   "metadata": {},
   "source": [
    "Get the features calculated in data enginering part 1 :"
   ]
  },
  {
   "cell_type": "code",
   "execution_count": 40,
   "id": "a0bf06e5-a8da-43cf-84ad-714303ee7d73",
   "metadata": {},
   "outputs": [],
   "source": [
    "train_set = combineAllFeatures(training_df)"
   ]
  },
  {
   "cell_type": "markdown",
   "id": "fe491a01-ce06-43d2-8a3b-22df98247b7f",
   "metadata": {},
   "source": [
    "Get the new features ( of data eng part 2) :"
   ]
  },
  {
   "cell_type": "code",
   "execution_count": 41,
   "id": "8dde9cc3-2bb1-4eb6-aa36-4125781e61e6",
   "metadata": {},
   "outputs": [
    {
     "name": "stderr",
     "output_type": "stream",
     "text": [
      "/Users/khadidjabourega/Documents/Fall_2022/Data_Science/Projects/Project2/IFT6758_project1-milestone-2/ift6758/data/Feature_Engineering2.py:126: SettingWithCopyWarning: \n",
      "A value is trying to be set on a copy of a slice from a DataFrame\n",
      "\n",
      "See the caveats in the documentation: https://pandas.pydata.org/pandas-docs/stable/user_guide/indexing.html#returning-a-view-versus-a-copy\n",
      "  df.drop(columns ='last_gameID', inplace =True)\n",
      "/Users/khadidjabourega/Documents/Fall_2022/Data_Science/Projects/Project2/IFT6758_project1-milestone-2/ift6758/data/Feature_Engineering2.py:129: SettingWithCopyWarning: \n",
      "A value is trying to be set on a copy of a slice from a DataFrame.\n",
      "Try using .loc[row_indexer,col_indexer] = value instead\n",
      "\n",
      "See the caveats in the documentation: https://pandas.pydata.org/pandas-docs/stable/user_guide/indexing.html#returning-a-view-versus-a-copy\n",
      "  df['time_from_last_event'] = df['periodSeconds'] - df['last_periodSeconds']\n",
      "/Users/khadidjabourega/Documents/Fall_2022/Data_Science/Projects/Project2/IFT6758_project1-milestone-2/ift6758/data/Feature_Engineering2.py:130: SettingWithCopyWarning: \n",
      "A value is trying to be set on a copy of a slice from a DataFrame.\n",
      "Try using .loc[row_indexer,col_indexer] = value instead\n",
      "\n",
      "See the caveats in the documentation: https://pandas.pydata.org/pandas-docs/stable/user_guide/indexing.html#returning-a-view-versus-a-copy\n",
      "  df['distance_from_last_event'] =  ((df[\"xCoord\"] - df[\"last_eventxCoord\"])**2 + (df[\"yCoord\"] - df[\"last_eventyCoord\"])**2)**0.5\n",
      "/Users/khadidjabourega/Documents/Fall_2022/Data_Science/Projects/Project2/IFT6758_project1-milestone-2/ift6758/data/Feature_Engineering2.py:131: SettingWithCopyWarning: \n",
      "A value is trying to be set on a copy of a slice from a DataFrame.\n",
      "Try using .loc[row_indexer,col_indexer] = value instead\n",
      "\n",
      "See the caveats in the documentation: https://pandas.pydata.org/pandas-docs/stable/user_guide/indexing.html#returning-a-view-versus-a-copy\n",
      "  df['rebound'] = np.where(df['last_EventType']=='Shot', True, False)\n",
      "/Users/khadidjabourega/Documents/Fall_2022/Data_Science/Projects/Project2/IFT6758_project1-milestone-2/ift6758/data/Feature_Engineering2.py:132: SettingWithCopyWarning: \n",
      "A value is trying to be set on a copy of a slice from a DataFrame.\n",
      "Try using .loc[row_indexer,col_indexer] = value instead\n",
      "\n",
      "See the caveats in the documentation: https://pandas.pydata.org/pandas-docs/stable/user_guide/indexing.html#returning-a-view-versus-a-copy\n",
      "  df['change_in_angle'] = np.where(df['last_EventType']=='Shot',np.where(df['yCoord'] *df['last_eventyCoord'] >0, ( df['Angle_from_net'] -df['last_Angle_from_net']),(df['Angle_from_net'] +df['last_Angle_from_net'])),0)\n",
      "/Users/khadidjabourega/Documents/Fall_2022/Data_Science/Projects/Project2/IFT6758_project1-milestone-2/ift6758/data/Feature_Engineering2.py:133: SettingWithCopyWarning: \n",
      "A value is trying to be set on a copy of a slice from a DataFrame.\n",
      "Try using .loc[row_indexer,col_indexer] = value instead\n",
      "\n",
      "See the caveats in the documentation: https://pandas.pydata.org/pandas-docs/stable/user_guide/indexing.html#returning-a-view-versus-a-copy\n",
      "  df['time_from_last_event'] = np.where(df['time_from_last_event'] ==0, 0.1, df['time_from_last_event'])\n",
      "/Users/khadidjabourega/Documents/Fall_2022/Data_Science/Projects/Project2/IFT6758_project1-milestone-2/ift6758/data/Feature_Engineering2.py:134: SettingWithCopyWarning: \n",
      "A value is trying to be set on a copy of a slice from a DataFrame.\n",
      "Try using .loc[row_indexer,col_indexer] = value instead\n",
      "\n",
      "See the caveats in the documentation: https://pandas.pydata.org/pandas-docs/stable/user_guide/indexing.html#returning-a-view-versus-a-copy\n",
      "  df['speed'] =  df['distance_from_last_event'] / df['time_from_last_event']\n"
     ]
    }
   ],
   "source": [
    "df = getPreviousEvent(train_set)"
   ]
  },
  {
   "cell_type": "markdown",
   "id": "1b676f91-dec1-47f1-9861-dd60c0152a9c",
   "metadata": {},
   "source": [
    "Final dataset to work with : "
   ]
  },
  {
   "cell_type": "code",
   "execution_count": 42,
   "id": "6e6c2380-0bef-4d97-9be7-77c3a1c9c1fc",
   "metadata": {},
   "outputs": [],
   "source": [
    "df.to_csv('./'+'featureEng_Train_set1.csv', index=False) "
   ]
  },
  {
   "cell_type": "markdown",
   "id": "63d5ddd7-e20f-41bf-9bb7-c7fcddb982bd",
   "metadata": {},
   "source": [
    "submit a small subset to comet-ml : "
   ]
  },
  {
   "cell_type": "code",
   "execution_count": 16,
   "id": "70088b63-32a8-46a9-8614-f9db36c4051a",
   "metadata": {},
   "outputs": [],
   "source": [
    "subset_df = df[df['gameID'] ==2017021065]"
   ]
  },
  {
   "cell_type": "code",
   "execution_count": 18,
   "id": "f60a292b-838a-4fa0-8e6c-891946971f36",
   "metadata": {},
   "outputs": [
    {
     "name": "stderr",
     "output_type": "stream",
     "text": [
      "COMET WARNING: As you are running in a Jupyter environment, you will need to call `experiment.end()` when finished to ensure all metrics and code are logged before exiting.\n",
      "COMET INFO: Experiment is live on comet.com https://www.comet.com/yasmine/ift6758-a22-milestone-2/f368549d4d1545fea33cffcc15450742\n",
      "\n",
      "COMET WARNING: pandas_profiling is required to log profile; ignoring\n"
     ]
    },
    {
     "data": {
      "text/plain": [
       "{'profile': None,\n",
       " 'dataframe': {'web': 'https://www.comet.com/api/asset/download?assetId=e4fca5a3b2f4406fa58b9299eae3958b&experimentKey=f368549d4d1545fea33cffcc15450742',\n",
       "  'api': 'https://www.comet.com/api/rest/v2/experiment/asset/get-asset?assetId=e4fca5a3b2f4406fa58b9299eae3958b&experimentKey=f368549d4d1545fea33cffcc15450742',\n",
       "  'assetId': 'e4fca5a3b2f4406fa58b9299eae3958b'}}"
      ]
     },
     "execution_count": 18,
     "metadata": {},
     "output_type": "execute_result"
    },
    {
     "name": "stderr",
     "output_type": "stream",
     "text": [
      "COMET INFO: Couldn't find a Git repository in '/Users/khadidjabourega/Documents/Fall_2022/Data_Science/Projects/Project2/IFT6758_project1-milestone-2/notebooks' nor in any parent directory. You can override where Comet is looking for a Git Patch by setting the configuration `COMET_GIT_DIRECTORY`\n"
     ]
    }
   ],
   "source": [
    "from comet_ml import Experiment\n",
    "experiment = Experiment(\n",
    "    api_key=\"LgN3RhQfuVAcQnKyC9X0Gk1PC\",\n",
    "    project_name=\"ift6758-a22-milestone-2\",\n",
    "    workspace=\"yasmine\",\n",
    ")\n",
    "experiment.log_dataframe_profile(\n",
    "subset_df, \n",
    "name='wpg_v_wsh_2017021065',  # keep this name\n",
    "dataframe_format='csv'  # ensure you set this flag!\n",
    ")\n"
   ]
  },
  {
   "cell_type": "code",
   "execution_count": null,
   "id": "db743585-0587-4431-b1de-747de4145cdd",
   "metadata": {},
   "outputs": [],
   "source": []
  }
 ],
 "metadata": {
  "kernelspec": {
   "display_name": "Python 3 (ipykernel)",
   "language": "python",
   "name": "python3"
  },
  "language_info": {
   "codemirror_mode": {
    "name": "ipython",
    "version": 3
   },
   "file_extension": ".py",
   "mimetype": "text/x-python",
   "name": "python",
   "nbconvert_exporter": "python",
   "pygments_lexer": "ipython3",
   "version": "3.9.12"
  }
 },
 "nbformat": 4,
 "nbformat_minor": 5
}
