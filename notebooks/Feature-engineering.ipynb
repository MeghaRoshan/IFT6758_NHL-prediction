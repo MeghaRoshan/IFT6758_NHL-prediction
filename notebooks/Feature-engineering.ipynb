{
 "cells": [
  {
   "cell_type": "markdown",
   "id": "dedd5bb0-0c41-4e99-9e13-0aabaeac9bba",
   "metadata": {},
   "source": [
    "#  Question 5"
   ]
  },
  {
   "cell_type": "code",
   "execution_count": 344,
   "id": "75cc2237-00c1-44a8-8bba-da1e119a7ae1",
   "metadata": {
    "tags": []
   },
   "outputs": [
    {
     "name": "stdout",
     "output_type": "stream",
     "text": [
      "The autoreload extension is already loaded. To reload it, use:\n",
      "  %reload_ext autoreload\n"
     ]
    }
   ],
   "source": [
    "%load_ext autoreload\n",
    "%autoreload 2"
   ]
  },
  {
   "cell_type": "code",
   "execution_count": 345,
   "id": "9a7a6cf2-8e2e-4610-98f6-9c2f9d951610",
   "metadata": {},
   "outputs": [],
   "source": [
    "import pandas as pd\n",
    "import plotly.express as px\n",
    "import plotly.graph_objects as go\n",
    "import numpy as np\n",
    "import math\n",
    "import seaborn as sns"
   ]
  },
  {
   "cell_type": "code",
   "execution_count": 167,
   "id": "7109c855-69d6-4c2b-88a3-423200d0a27e",
   "metadata": {},
   "outputs": [],
   "source": [
    "from ift6758.data.data_Acquisition import dataDownload"
   ]
  },
  {
   "cell_type": "code",
   "execution_count": 168,
   "id": "25a7152b-ae87-4e47-a9d5-b7c0874da4d6",
   "metadata": {},
   "outputs": [],
   "source": [
    "from ift6758.data.tidy_data import tidyData"
   ]
  },
  {
   "cell_type": "code",
   "execution_count": 408,
   "id": "067a7fed-9ed0-44d0-8e19-a86acea0965e",
   "metadata": {},
   "outputs": [],
   "source": [
    "from ift6758.data.Feature_Engineering1 import combineAllFeatures, goalRatioPerDistance, goalRatioPerAngle"
   ]
  },
  {
   "cell_type": "markdown",
   "id": "841bf6a5-c435-4a59-96ae-6e2bbfb0322f",
   "metadata": {},
   "source": [
    "If the above doesn't work for you, make sure you've installed the repo as specified in the readme file. \n",
    "Essentially you must make sure that your environment is setup (either through conda or virtualenv), and then install it using:\n",
    "\n",
    "```bash\n",
    "pip install -e /path/to/repo \n",
    "```\n",
    "\n"
   ]
  },
  {
   "cell_type": "markdown",
   "id": "1cbbc22a-475a-495a-9fe2-2929bebf91d4",
   "metadata": {},
   "source": [
    "# **Get training and testing data**"
   ]
  },
  {
   "cell_type": "code",
   "execution_count": 170,
   "id": "0248b7b5-1e9d-4a8f-8e76-eb5eea9458bc",
   "metadata": {},
   "outputs": [],
   "source": [
    "# define the seasons we are intressted in : \n",
    "years = (2015,2016, 2017,2018,2019)"
   ]
  },
  {
   "cell_type": "markdown",
   "id": "b99ba66a-c6e4-4e3f-ad0c-aa4fb1744f3e",
   "metadata": {},
   "source": [
    "Dowload the data :"
   ]
  },
  {
   "cell_type": "code",
   "execution_count": 11,
   "id": "65450141-943b-4af2-a11f-835b4e7a7781",
   "metadata": {},
   "outputs": [
    {
     "name": "stdout",
     "output_type": "stream",
     "text": [
      "file already exsiste\n",
      "file already exsiste\n",
      "file already exsiste\n",
      "file already exsiste\n",
      "file already exsiste\n"
     ]
    }
   ],
   "source": [
    "for i in years : \n",
    "    dataDownload(i)"
   ]
  },
  {
   "cell_type": "markdown",
   "id": "1dc02fd7-9b10-4549-b308-6cb719700fb4",
   "metadata": {},
   "source": [
    "Tidy the data :"
   ]
  },
  {
   "cell_type": "code",
   "execution_count": 12,
   "id": "27db99d5-ebf5-4173-9c56-7d15192f20df",
   "metadata": {},
   "outputs": [
    {
     "name": "stdout",
     "output_type": "stream",
     "text": [
      "file already exsiste\n",
      "file already exsiste\n",
      "file already exsiste\n",
      "file already exsiste\n",
      "file already exsiste\n"
     ]
    }
   ],
   "source": [
    "for i in years : \n",
    "    tidyData(i)"
   ]
  },
  {
   "cell_type": "markdown",
   "id": "393a877a-cc1a-4e63-a0fd-23b6ed0a5c9b",
   "metadata": {},
   "source": [
    "Separate the training and tes set :"
   ]
  },
  {
   "cell_type": "code",
   "execution_count": 172,
   "id": "74785705-b6c1-4865-b0f7-18ce0c27f170",
   "metadata": {},
   "outputs": [],
   "source": [
    "fina_test_set = pd.read_csv('./2019finalDataset.csv')"
   ]
  },
  {
   "cell_type": "code",
   "execution_count": 171,
   "id": "4f9be846-90d5-4d91-928d-9671d1017019",
   "metadata": {},
   "outputs": [],
   "source": [
    "df_2015_2016 = pd.read_csv('./2015finalDataset.csv')\n",
    "df_2016_2017 = pd.read_csv('./2016finalDataset.csv')\n",
    "df_2017_2018 = pd.read_csv('./2017finalDataset.csv')\n",
    "df_2018_2019 = pd.read_csv('./2018finalDataset.csv')"
   ]
  },
  {
   "cell_type": "code",
   "execution_count": 173,
   "id": "1092529d-d33a-41b1-9fa4-41ae6cdc9758",
   "metadata": {},
   "outputs": [],
   "source": [
    "training_df =  pd.concat([df_2015_2016, df_2016_2017,df_2017_2018,df_2018_2019])"
   ]
  },
  {
   "cell_type": "markdown",
   "id": "d3f9ce9a-7d6b-491c-8ba1-ba106e5bc420",
   "metadata": {},
   "source": [
    "Create new columns :"
   ]
  },
  {
   "cell_type": "code",
   "execution_count": 411,
   "id": "b48aa3b3-d4fe-4a4e-85f2-a223dacef19b",
   "metadata": {},
   "outputs": [],
   "source": [
    "train_set = combineAllFeatures(training_df)"
   ]
  },
  {
   "cell_type": "code",
   "execution_count": 427,
   "id": "6289406f-1ddf-4ef9-bcd3-11f9d30da12d",
   "metadata": {},
   "outputs": [
    {
     "data": {
      "text/html": [
       "<div>\n",
       "<style scoped>\n",
       "    .dataframe tbody tr th:only-of-type {\n",
       "        vertical-align: middle;\n",
       "    }\n",
       "\n",
       "    .dataframe tbody tr th {\n",
       "        vertical-align: top;\n",
       "    }\n",
       "\n",
       "    .dataframe thead th {\n",
       "        text-align: right;\n",
       "    }\n",
       "</style>\n",
       "<table border=\"1\" class=\"dataframe\">\n",
       "  <thead>\n",
       "    <tr style=\"text-align: right;\">\n",
       "      <th></th>\n",
       "      <th>gameID</th>\n",
       "      <th>period</th>\n",
       "      <th>xCoord</th>\n",
       "      <th>yCoord</th>\n",
       "      <th>season</th>\n",
       "      <th>Is_goal</th>\n",
       "      <th>empty_Net</th>\n",
       "      <th>Y_net</th>\n",
       "      <th>X_net</th>\n",
       "      <th>Distance_from_net</th>\n",
       "      <th>Angle_from_net</th>\n",
       "    </tr>\n",
       "  </thead>\n",
       "  <tbody>\n",
       "    <tr>\n",
       "      <th>count</th>\n",
       "      <td>3.312290e+05</td>\n",
       "      <td>331229.000000</td>\n",
       "      <td>331211.000000</td>\n",
       "      <td>331211.000000</td>\n",
       "      <td>331229.000000</td>\n",
       "      <td>331229.000000</td>\n",
       "      <td>331229.000000</td>\n",
       "      <td>331229.0</td>\n",
       "      <td>331229.000000</td>\n",
       "      <td>331209.000000</td>\n",
       "      <td>331209.000000</td>\n",
       "    </tr>\n",
       "    <tr>\n",
       "      <th>mean</th>\n",
       "      <td>2.016560e+09</td>\n",
       "      <td>2.049253</td>\n",
       "      <td>0.072525</td>\n",
       "      <td>-0.299543</td>\n",
       "      <td>2016.539255</td>\n",
       "      <td>0.093443</td>\n",
       "      <td>0.004586</td>\n",
       "      <td>0.0</td>\n",
       "      <td>-0.099686</td>\n",
       "      <td>38.428133</td>\n",
       "      <td>30.085374</td>\n",
       "    </tr>\n",
       "    <tr>\n",
       "      <th>std</th>\n",
       "      <td>1.114069e+06</td>\n",
       "      <td>0.876934</td>\n",
       "      <td>63.588765</td>\n",
       "      <td>19.000040</td>\n",
       "      <td>1.114090</td>\n",
       "      <td>0.291053</td>\n",
       "      <td>0.067564</td>\n",
       "      <td>0.0</td>\n",
       "      <td>89.000079</td>\n",
       "      <td>29.622041</td>\n",
       "      <td>20.990179</td>\n",
       "    </tr>\n",
       "    <tr>\n",
       "      <th>min</th>\n",
       "      <td>2.015020e+09</td>\n",
       "      <td>1.000000</td>\n",
       "      <td>-99.000000</td>\n",
       "      <td>-42.000000</td>\n",
       "      <td>2015.000000</td>\n",
       "      <td>0.000000</td>\n",
       "      <td>0.000000</td>\n",
       "      <td>0.0</td>\n",
       "      <td>-89.000000</td>\n",
       "      <td>0.000000</td>\n",
       "      <td>0.000000</td>\n",
       "    </tr>\n",
       "    <tr>\n",
       "      <th>25%</th>\n",
       "      <td>2.016020e+09</td>\n",
       "      <td>1.000000</td>\n",
       "      <td>-64.000000</td>\n",
       "      <td>-14.000000</td>\n",
       "      <td>2016.000000</td>\n",
       "      <td>0.000000</td>\n",
       "      <td>0.000000</td>\n",
       "      <td>0.0</td>\n",
       "      <td>-89.000000</td>\n",
       "      <td>17.464249</td>\n",
       "      <td>13.626995</td>\n",
       "    </tr>\n",
       "    <tr>\n",
       "      <th>50%</th>\n",
       "      <td>2.017020e+09</td>\n",
       "      <td>2.000000</td>\n",
       "      <td>-1.000000</td>\n",
       "      <td>0.000000</td>\n",
       "      <td>2017.000000</td>\n",
       "      <td>0.000000</td>\n",
       "      <td>0.000000</td>\n",
       "      <td>0.0</td>\n",
       "      <td>-89.000000</td>\n",
       "      <td>33.970576</td>\n",
       "      <td>27.758541</td>\n",
       "    </tr>\n",
       "    <tr>\n",
       "      <th>75%</th>\n",
       "      <td>2.018020e+09</td>\n",
       "      <td>3.000000</td>\n",
       "      <td>64.000000</td>\n",
       "      <td>14.000000</td>\n",
       "      <td>2018.000000</td>\n",
       "      <td>0.000000</td>\n",
       "      <td>0.000000</td>\n",
       "      <td>0.0</td>\n",
       "      <td>89.000000</td>\n",
       "      <td>50.328918</td>\n",
       "      <td>42.357455</td>\n",
       "    </tr>\n",
       "    <tr>\n",
       "      <th>max</th>\n",
       "      <td>2.018030e+09</td>\n",
       "      <td>6.000000</td>\n",
       "      <td>99.000000</td>\n",
       "      <td>42.000000</td>\n",
       "      <td>2018.000000</td>\n",
       "      <td>1.000000</td>\n",
       "      <td>1.000000</td>\n",
       "      <td>0.0</td>\n",
       "      <td>89.000000</td>\n",
       "      <td>189.654950</td>\n",
       "      <td>176.905942</td>\n",
       "    </tr>\n",
       "  </tbody>\n",
       "</table>\n",
       "</div>"
      ],
      "text/plain": [
       "             gameID         period         xCoord         yCoord  \\\n",
       "count  3.312290e+05  331229.000000  331211.000000  331211.000000   \n",
       "mean   2.016560e+09       2.049253       0.072525      -0.299543   \n",
       "std    1.114069e+06       0.876934      63.588765      19.000040   \n",
       "min    2.015020e+09       1.000000     -99.000000     -42.000000   \n",
       "25%    2.016020e+09       1.000000     -64.000000     -14.000000   \n",
       "50%    2.017020e+09       2.000000      -1.000000       0.000000   \n",
       "75%    2.018020e+09       3.000000      64.000000      14.000000   \n",
       "max    2.018030e+09       6.000000      99.000000      42.000000   \n",
       "\n",
       "              season        Is_goal      empty_Net     Y_net          X_net  \\\n",
       "count  331229.000000  331229.000000  331229.000000  331229.0  331229.000000   \n",
       "mean     2016.539255       0.093443       0.004586       0.0      -0.099686   \n",
       "std         1.114090       0.291053       0.067564       0.0      89.000079   \n",
       "min      2015.000000       0.000000       0.000000       0.0     -89.000000   \n",
       "25%      2016.000000       0.000000       0.000000       0.0     -89.000000   \n",
       "50%      2017.000000       0.000000       0.000000       0.0     -89.000000   \n",
       "75%      2018.000000       0.000000       0.000000       0.0      89.000000   \n",
       "max      2018.000000       1.000000       1.000000       0.0      89.000000   \n",
       "\n",
       "       Distance_from_net  Angle_from_net  \n",
       "count      331209.000000   331209.000000  \n",
       "mean           38.428133       30.085374  \n",
       "std            29.622041       20.990179  \n",
       "min             0.000000        0.000000  \n",
       "25%            17.464249       13.626995  \n",
       "50%            33.970576       27.758541  \n",
       "75%            50.328918       42.357455  \n",
       "max           189.654950      176.905942  "
      ]
     },
     "execution_count": 427,
     "metadata": {},
     "output_type": "execute_result"
    }
   ],
   "source": [
    "train_set.describe()"
   ]
  },
  {
   "cell_type": "code",
   "execution_count": 208,
   "id": "439987a2-fbb2-4e60-be2e-9a1012a745fe",
   "metadata": {},
   "outputs": [],
   "source": [
    "train_set.to_csv('./'+'train_set.csv', index=False) \n",
    "fina_test_set.to_csv('./'+'test_set.csv', index=False) "
   ]
  },
  {
   "cell_type": "markdown",
   "id": "9bfdc048-bff8-47ce-be63-059fead3cd8a",
   "metadata": {},
   "source": [
    "A histogram of shot counts (goals and no-goals separated), binned by distance"
   ]
  },
  {
   "cell_type": "code",
   "execution_count": null,
   "id": "6a0e0d14-c173-4d71-934e-de7828cdb9dd",
   "metadata": {},
   "outputs": [],
   "source": [
    "import plotly.express as px\n",
    "df_dist = train_set[['Distance_from_net','Is_goal']].dropna()\n",
    "fig = px.histogram(df_dist, x=\"Distance_from_net\", color=\"Is_goal\",nbins=20)\n",
    "fig.update_layout(barmode='overlay')\n",
    "fig.show()"
   ]
  },
  {
   "cell_type": "markdown",
   "id": "62080e43-cc0c-4342-9ffc-e59fc5fb45f1",
   "metadata": {},
   "source": [
    "A histogram of shot counts (goals and no-goals separated), binned by angle"
   ]
  },
  {
   "cell_type": "code",
   "execution_count": null,
   "id": "213eaea1-aec9-4be3-85f9-a70d924045c3",
   "metadata": {},
   "outputs": [],
   "source": [
    "import plotly.express as px\n",
    "df_angle = train_set[['Angle_from_net','Is_goal']].dropna()\n",
    "fig = px.histogram(df_angle, x=\"Angle_from_net\", color=\"Is_goal\",nbins=20)\n",
    "fig.update_layout(barmode='overlay')\n",
    "fig.show()"
   ]
  },
  {
   "cell_type": "code",
   "execution_count": null,
   "id": "172291fb-b604-4d16-bbc8-3f856a621655",
   "metadata": {},
   "outputs": [],
   "source": [
    "fig = px.density_contour(df_angle_dist,y=\"Angle_from_net\", x=\"Distance_from_net\", color=\"Is_goal\", marginal_x=\"histogram\", marginal_y=\"histogram\")\n",
    "fig.show()"
   ]
  },
  {
   "cell_type": "code",
   "execution_count": null,
   "id": "11222a68-6f50-4d36-9720-4f3efd6b23cb",
   "metadata": {},
   "outputs": [],
   "source": [
    "fig = px.scatter(df_angle_dist, y=\"Angle_from_net\", x=\"Distance_from_net\", color=\"Is_goal\", marginal_x=\"histogram\", marginal_y=\"histogram\")\n",
    "fig.show()"
   ]
  },
  {
   "cell_type": "code",
   "execution_count": null,
   "id": "86512d36-668f-4446-b730-7ebac433706c",
   "metadata": {},
   "outputs": [],
   "source": [
    "fig = px.density_heatmap(df_angle_dist, y=\"Angle_from_net\", x=\"Distance_from_net\",facet_col=\"Is_goal\", marginal_x=\"histogram\", marginal_y=\"histogram\")\n",
    "fig.show()"
   ]
  },
  {
   "cell_type": "code",
   "execution_count": 406,
   "id": "24286fab-1c46-4873-93ab-551c918d40d7",
   "metadata": {},
   "outputs": [],
   "source": [
    "bins = [0.0, 10, 20, 30, 40, 50, 60, 70, 80,90,100,120,160,200]\n",
    "df_DisBinned = goalRatioPerDistance(train_set,bins)"
   ]
  },
  {
   "cell_type": "code",
   "execution_count": null,
   "id": "cf3bc2f7-86b9-46d2-9325-888b095dfd68",
   "metadata": {},
   "outputs": [],
   "source": [
    "fig =  px.line(df_DisBinned, x=\"dist_binned\", y=\"goalRatio\")\n",
    "fig.update_xaxes(type='category')\n",
    "fig.show()"
   ]
  },
  {
   "cell_type": "code",
   "execution_count": 418,
   "id": "1a7d109a-f789-411a-9c7f-b7b65fb2ecc9",
   "metadata": {},
   "outputs": [],
   "source": [
    "Angle_bins = [0.0, 10, 20, 30, 40, 50, 60, 70, 80,90,100,120,160,200]\n",
    "df_AngleBinned = goalRatioPerAngle(train_set,Angle_bins)"
   ]
  },
  {
   "cell_type": "code",
   "execution_count": null,
   "id": "31e754c9-365d-41b0-922d-5b60d3c9e518",
   "metadata": {},
   "outputs": [],
   "source": [
    "fig =  px.line(df_AngleBinned, x=\"Anlge_binned\", y=\"goalRatio\")\n",
    "fig.update_xaxes(type='category')\n",
    "fig.show()"
   ]
  },
  {
   "cell_type": "code",
   "execution_count": null,
   "id": "daa0338d-f33b-4e50-8826-7aeda31f50b7",
   "metadata": {},
   "outputs": [],
   "source": [
    "df_dist2 = train_set[train_set['Is_goal']==1][['Distance_from_net','empty_Net']].dropna()\n",
    "fig = px.histogram(df_dist2, x=\"Distance_from_net\", color=\"empty_Net\",nbins=50)\n",
    "fig.update_layout(barmode='overlay')\n",
    "fig.show()"
   ]
  },
  {
   "cell_type": "code",
   "execution_count": null,
   "id": "be526226-7e08-405d-a3a1-b8f63761338f",
   "metadata": {},
   "outputs": [],
   "source": [
    "fig = px.histogram(df_dist2[df_dist2[\"empty_Net\"]==0], x=\"Distance_from_net\")\n",
    "fig.show()"
   ]
  },
  {
   "cell_type": "code",
   "execution_count": null,
   "id": "3ff851b9-8863-4cb1-a2c4-7b85e9fb6b9a",
   "metadata": {},
   "outputs": [],
   "source": [
    "fig = px.histogram(df_dist2[df_dist2[\"empty_Net\"]==1], x=\"Distance_from_net\")\n",
    "fig.show()"
   ]
  }
 ],
 "metadata": {
  "kernelspec": {
   "display_name": "Python 3 (ipykernel)",
   "language": "python",
   "name": "python3"
  },
  "language_info": {
   "codemirror_mode": {
    "name": "ipython",
    "version": 3
   },
   "file_extension": ".py",
   "mimetype": "text/x-python",
   "name": "python",
   "nbconvert_exporter": "python",
   "pygments_lexer": "ipython3",
   "version": "3.9.12"
  }
 },
 "nbformat": 4,
 "nbformat_minor": 5
}
