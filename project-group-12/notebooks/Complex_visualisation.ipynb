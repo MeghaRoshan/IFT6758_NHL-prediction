{
 "cells": [
  {
   "cell_type": "markdown",
   "id": "dedd5bb0-0c41-4e99-9e13-0aabaeac9bba",
   "metadata": {},
   "source": [
    "#  Question 6"
   ]
  },
  {
   "cell_type": "markdown",
   "id": "abf8c68a-efd5-467a-852a-cea0aabb8a45",
   "metadata": {},
   "source": [
    "Upload packages :"
   ]
  },
  {
   "cell_type": "code",
   "execution_count": 2,
   "id": "5bda9786-83ed-4d18-8c9b-c08126a4e4ca",
   "metadata": {},
   "outputs": [],
   "source": [
    "%load_ext autoreload\n",
    "%autoreload 2"
   ]
  },
  {
   "cell_type": "code",
   "execution_count": 3,
   "id": "4b285283-36e1-4991-9e6c-559d56798ecb",
   "metadata": {},
   "outputs": [],
   "source": [
    "import pandas as pd\n",
    "import plotly.express as px\n",
    "import plotly.graph_objects as go\n",
    "import numpy as np\n",
    "import math\n",
    "import seaborn as sns\n",
    "import os\n",
    "import matplotlib.pyplot as plt\n",
    "from PIL import Image\n",
    "from scipy.ndimage import gaussian_filter \n",
    "from scipy.interpolate import griddata\n",
    "from ipywidgets import interact, interactive, fixed, interact_manual, widgets"
   ]
  },
  {
   "cell_type": "code",
   "execution_count": 4,
   "id": "51fe610c-9647-48a6-a49c-c0ee26d5b28b",
   "metadata": {},
   "outputs": [],
   "source": [
    "from ift6758.visualizations.complex_visualizations import selectDataFrameForPlotly, teamList, shotsCoordinatedCorrection,selectDataFrame, leagueAverageShotRatePerTeam, leagueAverageShotRatePerHour, dataframesCombination"
   ]
  },
  {
   "cell_type": "markdown",
   "id": "e70ab456-0112-48da-8fcf-60f305bad547",
   "metadata": {},
   "source": [
    "# Question 6-1  :\n",
    "\n",
    "Ensure you can work with the event coordinates correctly. This includes ensuring the shots are on the correct side of the rink (due to period changes, or start on different sides during a game), as well as being able to map from physical coordinates to pixel coordinates on the figure.\n",
    "\n",
    "\n",
    "transforming our coordinates :"
   ]
  },
  {
   "cell_type": "code",
   "execution_count": 5,
   "id": "f1e09330-d416-4ae9-98d4-7e6ea96299cc",
   "metadata": {},
   "outputs": [],
   "source": [
    "df = shotsCoordinatedCorrection('./2021finalDataset.csv')"
   ]
  },
  {
   "cell_type": "code",
   "execution_count": 6,
   "id": "837db8f3-5914-42d2-ae9a-6cc796f85a8b",
   "metadata": {},
   "outputs": [
    {
     "data": {
      "text/html": [
       "<div>\n",
       "<style scoped>\n",
       "    .dataframe tbody tr th:only-of-type {\n",
       "        vertical-align: middle;\n",
       "    }\n",
       "\n",
       "    .dataframe tbody tr th {\n",
       "        vertical-align: top;\n",
       "    }\n",
       "\n",
       "    .dataframe thead th {\n",
       "        text-align: right;\n",
       "    }\n",
       "</style>\n",
       "<table border=\"1\" class=\"dataframe\">\n",
       "  <thead>\n",
       "    <tr style=\"text-align: right;\">\n",
       "      <th></th>\n",
       "      <th>gameID</th>\n",
       "      <th>eventType</th>\n",
       "      <th>period</th>\n",
       "      <th>periodTime</th>\n",
       "      <th>periodType</th>\n",
       "      <th>teamOfShooter</th>\n",
       "      <th>homeOrAway</th>\n",
       "      <th>xCoord</th>\n",
       "      <th>yCoord</th>\n",
       "      <th>shooter</th>\n",
       "      <th>goalie</th>\n",
       "      <th>shotType</th>\n",
       "      <th>emptyNet</th>\n",
       "      <th>strength</th>\n",
       "      <th>season</th>\n",
       "      <th>rinkSide</th>\n",
       "      <th>x_bin</th>\n",
       "      <th>y_bin</th>\n",
       "    </tr>\n",
       "  </thead>\n",
       "  <tbody>\n",
       "    <tr>\n",
       "      <th>0</th>\n",
       "      <td>2021020001</td>\n",
       "      <td>Shot</td>\n",
       "      <td>1</td>\n",
       "      <td>01:03</td>\n",
       "      <td>REGULAR</td>\n",
       "      <td>Tampa Bay Lightning</td>\n",
       "      <td>home</td>\n",
       "      <td>61.0</td>\n",
       "      <td>-32.0</td>\n",
       "      <td>Steven Stamkos</td>\n",
       "      <td>Tristan Jarry</td>\n",
       "      <td>Wrist Shot</td>\n",
       "      <td>NaN</td>\n",
       "      <td>NaN</td>\n",
       "      <td>2021</td>\n",
       "      <td>left</td>\n",
       "      <td>61.0</td>\n",
       "      <td>-32.0</td>\n",
       "    </tr>\n",
       "    <tr>\n",
       "      <th>1</th>\n",
       "      <td>2021020001</td>\n",
       "      <td>Shot</td>\n",
       "      <td>1</td>\n",
       "      <td>01:44</td>\n",
       "      <td>REGULAR</td>\n",
       "      <td>Pittsburgh Penguins</td>\n",
       "      <td>away</td>\n",
       "      <td>-65.0</td>\n",
       "      <td>19.0</td>\n",
       "      <td>Brock McGinn</td>\n",
       "      <td>Andrei Vasilevskiy</td>\n",
       "      <td>Wrist Shot</td>\n",
       "      <td>NaN</td>\n",
       "      <td>NaN</td>\n",
       "      <td>2021</td>\n",
       "      <td>right</td>\n",
       "      <td>65.0</td>\n",
       "      <td>-19.0</td>\n",
       "    </tr>\n",
       "    <tr>\n",
       "      <th>2</th>\n",
       "      <td>2021020001</td>\n",
       "      <td>Shot</td>\n",
       "      <td>1</td>\n",
       "      <td>02:01</td>\n",
       "      <td>REGULAR</td>\n",
       "      <td>Tampa Bay Lightning</td>\n",
       "      <td>home</td>\n",
       "      <td>-8.0</td>\n",
       "      <td>-27.0</td>\n",
       "      <td>Jan Rutta</td>\n",
       "      <td>Tristan Jarry</td>\n",
       "      <td>Wrist Shot</td>\n",
       "      <td>NaN</td>\n",
       "      <td>NaN</td>\n",
       "      <td>2021</td>\n",
       "      <td>left</td>\n",
       "      <td>8.0</td>\n",
       "      <td>27.0</td>\n",
       "    </tr>\n",
       "    <tr>\n",
       "      <th>3</th>\n",
       "      <td>2021020001</td>\n",
       "      <td>Shot</td>\n",
       "      <td>1</td>\n",
       "      <td>02:47</td>\n",
       "      <td>REGULAR</td>\n",
       "      <td>Pittsburgh Penguins</td>\n",
       "      <td>away</td>\n",
       "      <td>-60.0</td>\n",
       "      <td>-4.0</td>\n",
       "      <td>Danton Heinen</td>\n",
       "      <td>Andrei Vasilevskiy</td>\n",
       "      <td>Wrist Shot</td>\n",
       "      <td>NaN</td>\n",
       "      <td>NaN</td>\n",
       "      <td>2021</td>\n",
       "      <td>right</td>\n",
       "      <td>60.0</td>\n",
       "      <td>4.0</td>\n",
       "    </tr>\n",
       "    <tr>\n",
       "      <th>4</th>\n",
       "      <td>2021020001</td>\n",
       "      <td>Shot</td>\n",
       "      <td>1</td>\n",
       "      <td>03:07</td>\n",
       "      <td>REGULAR</td>\n",
       "      <td>Tampa Bay Lightning</td>\n",
       "      <td>home</td>\n",
       "      <td>63.0</td>\n",
       "      <td>4.0</td>\n",
       "      <td>Ondrej Palat</td>\n",
       "      <td>Tristan Jarry</td>\n",
       "      <td>Wrist Shot</td>\n",
       "      <td>NaN</td>\n",
       "      <td>NaN</td>\n",
       "      <td>2021</td>\n",
       "      <td>left</td>\n",
       "      <td>63.0</td>\n",
       "      <td>4.0</td>\n",
       "    </tr>\n",
       "  </tbody>\n",
       "</table>\n",
       "</div>"
      ],
      "text/plain": [
       "       gameID eventType  period periodTime periodType        teamOfShooter  \\\n",
       "0  2021020001      Shot       1      01:03    REGULAR  Tampa Bay Lightning   \n",
       "1  2021020001      Shot       1      01:44    REGULAR  Pittsburgh Penguins   \n",
       "2  2021020001      Shot       1      02:01    REGULAR  Tampa Bay Lightning   \n",
       "3  2021020001      Shot       1      02:47    REGULAR  Pittsburgh Penguins   \n",
       "4  2021020001      Shot       1      03:07    REGULAR  Tampa Bay Lightning   \n",
       "\n",
       "  homeOrAway  xCoord  yCoord         shooter              goalie    shotType  \\\n",
       "0       home    61.0   -32.0  Steven Stamkos       Tristan Jarry  Wrist Shot   \n",
       "1       away   -65.0    19.0    Brock McGinn  Andrei Vasilevskiy  Wrist Shot   \n",
       "2       home    -8.0   -27.0       Jan Rutta       Tristan Jarry  Wrist Shot   \n",
       "3       away   -60.0    -4.0   Danton Heinen  Andrei Vasilevskiy  Wrist Shot   \n",
       "4       home    63.0     4.0    Ondrej Palat       Tristan Jarry  Wrist Shot   \n",
       "\n",
       "  emptyNet strength  season rinkSide  x_bin  y_bin  \n",
       "0      NaN      NaN    2021     left   61.0  -32.0  \n",
       "1      NaN      NaN    2021    right   65.0  -19.0  \n",
       "2      NaN      NaN    2021     left    8.0   27.0  \n",
       "3      NaN      NaN    2021    right   60.0    4.0  \n",
       "4      NaN      NaN    2021     left   63.0    4.0  "
      ]
     },
     "execution_count": 6,
     "metadata": {},
     "output_type": "execute_result"
    }
   ],
   "source": [
    "df.head()"
   ]
  },
  {
   "cell_type": "markdown",
   "id": "32c86c6e-00b1-4c87-95e9-c409e8467f01",
   "metadata": {},
   "source": [
    "# Question 6-2 :\n",
    "Compute aggregate statistics of shot locations across the entire league to compute league average shot rate per hour. You can make a few simplifying assumptions:\n",
    "You can assume all shots are even strength; this means you can simply aggregate over all shots rather than having to figure out whether a shot was an even strength shot or not.\n"
   ]
  },
  {
   "cell_type": "code",
   "execution_count": 7,
   "id": "94c17491-1c25-4854-9c4e-34aef55a253c",
   "metadata": {},
   "outputs": [],
   "source": [
    "df2 =leagueAverageShotRatePerHour(df)"
   ]
  },
  {
   "cell_type": "code",
   "execution_count": 8,
   "id": "f4dfcc3b-3fd1-4e2e-807d-08f3316a956d",
   "metadata": {},
   "outputs": [
    {
     "data": {
      "text/html": [
       "<div>\n",
       "<style scoped>\n",
       "    .dataframe tbody tr th:only-of-type {\n",
       "        vertical-align: middle;\n",
       "    }\n",
       "\n",
       "    .dataframe tbody tr th {\n",
       "        vertical-align: top;\n",
       "    }\n",
       "\n",
       "    .dataframe thead th {\n",
       "        text-align: right;\n",
       "    }\n",
       "</style>\n",
       "<table border=\"1\" class=\"dataframe\">\n",
       "  <thead>\n",
       "    <tr style=\"text-align: right;\">\n",
       "      <th></th>\n",
       "      <th>x_bin</th>\n",
       "      <th>y_bin</th>\n",
       "      <th>totalShoots</th>\n",
       "      <th>avgShotsPerHour</th>\n",
       "    </tr>\n",
       "  </thead>\n",
       "  <tbody>\n",
       "    <tr>\n",
       "      <th>0</th>\n",
       "      <td>0.0</td>\n",
       "      <td>-41.0</td>\n",
       "      <td>1</td>\n",
       "      <td>0.000740</td>\n",
       "    </tr>\n",
       "    <tr>\n",
       "      <th>1</th>\n",
       "      <td>0.0</td>\n",
       "      <td>-40.0</td>\n",
       "      <td>1</td>\n",
       "      <td>0.000740</td>\n",
       "    </tr>\n",
       "    <tr>\n",
       "      <th>2</th>\n",
       "      <td>0.0</td>\n",
       "      <td>-39.0</td>\n",
       "      <td>1</td>\n",
       "      <td>0.000740</td>\n",
       "    </tr>\n",
       "    <tr>\n",
       "      <th>3</th>\n",
       "      <td>0.0</td>\n",
       "      <td>-38.0</td>\n",
       "      <td>2</td>\n",
       "      <td>0.001479</td>\n",
       "    </tr>\n",
       "    <tr>\n",
       "      <th>4</th>\n",
       "      <td>0.0</td>\n",
       "      <td>-37.0</td>\n",
       "      <td>2</td>\n",
       "      <td>0.001479</td>\n",
       "    </tr>\n",
       "  </tbody>\n",
       "</table>\n",
       "</div>"
      ],
      "text/plain": [
       "   x_bin  y_bin  totalShoots  avgShotsPerHour\n",
       "0    0.0  -41.0            1         0.000740\n",
       "1    0.0  -40.0            1         0.000740\n",
       "2    0.0  -39.0            1         0.000740\n",
       "3    0.0  -38.0            2         0.001479\n",
       "4    0.0  -37.0            2         0.001479"
      ]
     },
     "execution_count": 8,
     "metadata": {},
     "output_type": "execute_result"
    }
   ],
   "source": [
    "df2.head()"
   ]
  },
  {
   "cell_type": "markdown",
   "id": "3c752b8e-f857-49bf-a2f3-8d63c5d142e0",
   "metadata": {
    "tags": []
   },
   "source": [
    "# Question 6-3 :\n",
    "Group shots by team, and use the league average shot rate per hour computed above to compute the excess shot rate per hour. You can choose to represent this as either a raw difference in goals between the teams, or a percentage."
   ]
  },
  {
   "cell_type": "code",
   "execution_count": 9,
   "id": "0470d734-cb55-4354-8d3a-380a821dc083",
   "metadata": {},
   "outputs": [],
   "source": [
    "df_3 = leagueAverageShotRatePerTeam(df,'Anaheim Ducks' )"
   ]
  },
  {
   "cell_type": "code",
   "execution_count": 10,
   "id": "358debe7-876e-486a-ae42-677b12be1a17",
   "metadata": {},
   "outputs": [
    {
     "data": {
      "text/html": [
       "<div>\n",
       "<style scoped>\n",
       "    .dataframe tbody tr th:only-of-type {\n",
       "        vertical-align: middle;\n",
       "    }\n",
       "\n",
       "    .dataframe tbody tr th {\n",
       "        vertical-align: top;\n",
       "    }\n",
       "\n",
       "    .dataframe thead th {\n",
       "        text-align: right;\n",
       "    }\n",
       "</style>\n",
       "<table border=\"1\" class=\"dataframe\">\n",
       "  <thead>\n",
       "    <tr style=\"text-align: right;\">\n",
       "      <th></th>\n",
       "      <th>x_bin</th>\n",
       "      <th>y_bin</th>\n",
       "      <th>totalShotsPerTeam</th>\n",
       "    </tr>\n",
       "  </thead>\n",
       "  <tbody>\n",
       "    <tr>\n",
       "      <th>0</th>\n",
       "      <td>0.0</td>\n",
       "      <td>-41.0</td>\n",
       "      <td>1</td>\n",
       "    </tr>\n",
       "    <tr>\n",
       "      <th>1</th>\n",
       "      <td>0.0</td>\n",
       "      <td>10.0</td>\n",
       "      <td>1</td>\n",
       "    </tr>\n",
       "    <tr>\n",
       "      <th>2</th>\n",
       "      <td>0.0</td>\n",
       "      <td>31.0</td>\n",
       "      <td>1</td>\n",
       "    </tr>\n",
       "    <tr>\n",
       "      <th>3</th>\n",
       "      <td>0.0</td>\n",
       "      <td>39.0</td>\n",
       "      <td>1</td>\n",
       "    </tr>\n",
       "    <tr>\n",
       "      <th>4</th>\n",
       "      <td>1.0</td>\n",
       "      <td>-32.0</td>\n",
       "      <td>1</td>\n",
       "    </tr>\n",
       "  </tbody>\n",
       "</table>\n",
       "</div>"
      ],
      "text/plain": [
       "   x_bin  y_bin  totalShotsPerTeam\n",
       "0    0.0  -41.0                  1\n",
       "1    0.0   10.0                  1\n",
       "2    0.0   31.0                  1\n",
       "3    0.0   39.0                  1\n",
       "4    1.0  -32.0                  1"
      ]
     },
     "execution_count": 10,
     "metadata": {},
     "output_type": "execute_result"
    }
   ],
   "source": [
    "df_3.head()"
   ]
  },
  {
   "cell_type": "markdown",
   "id": "e77e914f-3009-4fd6-bd15-7f4602b08fba",
   "metadata": {
    "tags": []
   },
   "source": [
    "# Question 6-4 :\n",
    "Make appropriate choices to bin your data when displaying it. You could also consider using smoothing techniques to make your shot maps more readable. A common strategy is to use kernel density estimation with a Gaussian kernel."
   ]
  },
  {
   "cell_type": "code",
   "execution_count": 11,
   "id": "e83bb6b6-b48f-4ec3-81aa-7c8b877b34cc",
   "metadata": {},
   "outputs": [
    {
     "data": {
      "image/png": "[encoded data removed]",
      "text/plain": [
       "<Figure size 936x612 with 2 Axes>"
      ]
     },
     "metadata": {},
     "output_type": "display_data"
    }
   ],
   "source": [
    "def plotShotMap(season_year, team, df):\n",
    "    fig, ax = plt.subplots(figsize=(13,8.5),facecolor='w', edgecolor='k')\n",
    "            \n",
    "    season_games = dataframesCombination(df,team )\n",
    "    img = plt.imread('../figures/nhl_rink.png')\n",
    "\n",
    "    ext = [-100, 100, -42.5, 42.5]\n",
    "    plt.imshow(img, zorder=0, extent=ext, aspect=1)\n",
    "    # Generate some test data\n",
    "    [x,y] = np.round(np.meshgrid(np.linspace(0,100,100),np.linspace(-42.5,42.5,85)))\n",
    "    excessShotRate = griddata((season_games['x_bin'],season_games['y_bin']),season_games['excessShotRate'],(x,y),method='cubic',fill_value=0)\n",
    "    excessShotRate = np.where(excessShotRate < 0,0,excessShotRate)\n",
    "    \n",
    "    \n",
    "    img = gaussian_filter(excessShotRate, sigma=4)\n",
    "    img = ax.imshow(img, extent=[0, 100, -42.5, 42.5], origin='lower', cmap='bwr', alpha=0.5 )#, clim=(-1, 1))\n",
    "    \n",
    "    cbar = plt.colorbar(img, ax=ax, pad = 0.05)\n",
    "    cbar.ax.set_ylabel('Excess Shots per 1 feet', rotation=270, labelpad=20)\n",
    "    ax.set_title(f\"Shot map of {team} - season {season_year}/{season_year+1}\")\n",
    "    \n",
    "    plt.show()\n",
    "    \n",
    "plotShotMap(2021, 'Calgary Flames' ,df )"
   ]
  },
  {
   "cell_type": "markdown",
   "id": "b1d501a5-bc87-4ec6-8379-cb80db780bd8",
   "metadata": {},
   "source": [
    "# Question 5 : \n",
    "Make the plot interactive with options to select the team. The easiest way to do this is using something like plotly or bokeh"
   ]
  },
  {
   "cell_type": "code",
   "execution_count": 12,
   "id": "713e1ef1-87d7-4960-8cbe-bd35eb353414",
   "metadata": {},
   "outputs": [
    {
     "data": {
      "application/vnd.jupyter.widget-view+json": {
       "model_id": "889a249e93e44032953bf2652b17129d",
       "version_major": 2,
       "version_minor": 0
      },
      "text/plain": [
       "interactive(children=(IntSlider(value=2016, description='season_year', max=2021, min=2016), Output()), _dom_cl…"
      ]
     },
     "metadata": {},
     "output_type": "display_data"
    }
   ],
   "source": [
    "@interact(\n",
    "    season_year=widgets.IntSlider(min=2016, max=2021, step=1),\n",
    ")\n",
    "def show_data(season_year):\n",
    "    season_games = selectDataFrame(season_year)\n",
    "    \n",
    "    @interact(\n",
    "    team=teamList(season_year))\n",
    "    def data(team) : \n",
    "        print('Number of teams :' , len(team))\n",
    "        plotShotMap(season_year, team, season_games)\n",
    "        display(season_games.head())\n",
    "        \n"
   ]
  }
 ],
 "metadata": {
  "kernelspec": {
   "display_name": "Python 3 (ipykernel)",
   "language": "python",
   "name": "python3"
  },
  "language_info": {
   "codemirror_mode": {
    "name": "ipython",
    "version": 3
   },
   "file_extension": ".py",
   "mimetype": "text/x-python",
   "name": "python",
   "nbconvert_exporter": "python",
   "pygments_lexer": "ipython3",
   "version": "3.9.12"
  }
 },
 "nbformat": 4,
 "nbformat_minor": 5
}
