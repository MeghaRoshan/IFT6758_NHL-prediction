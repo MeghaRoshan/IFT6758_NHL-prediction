{
 "cells": [
  {
   "cell_type": "markdown",
   "id": "c0799e4f-9e24-40a8-85b6-c46bcd833247",
   "metadata": {
    "jp-MarkdownHeadingCollapsed": true,
    "tags": []
   },
   "source": [
    "# Load libraries :"
   ]
  },
  {
   "cell_type": "code",
   "execution_count": 7,
   "id": "9658c345-f740-41ff-8df0-3352ebf1278c",
   "metadata": {},
   "outputs": [],
   "source": [
    "import keras"
   ]
  },
  {
   "cell_type": "code",
   "execution_count": 8,
   "id": "6114be41-bf9f-4484-a9f4-fab59530c520",
   "metadata": {},
   "outputs": [],
   "source": [
    "import pickle"
   ]
  },
  {
   "cell_type": "code",
   "execution_count": 9,
   "id": "225864c0-9283-4bcd-9280-85bbbd916b4d",
   "metadata": {},
   "outputs": [],
   "source": [
    "# Import comet_ml at the top of your file, before sklearn!\n",
    "from comet_ml import Experiment\n",
    "import os \n",
    "from sklearn.metrics import accuracy_score"
   ]
  },
  {
   "cell_type": "code",
   "execution_count": 10,
   "id": "2e19f4c9-be72-4965-9d2d-33925adf43bc",
   "metadata": {},
   "outputs": [],
   "source": [
    "import pandas as pd\n",
    "from sklearn.model_selection import train_test_split\n",
    "import numpy as np\n",
    "import missingno as msno\n",
    "import matplotlib.pyplot as plt\n",
    "import seaborn as sns\n",
    "import category_encoders as ce"
   ]
  },
  {
   "cell_type": "code",
   "execution_count": 11,
   "id": "1e9d51cc-5b7f-45b0-bd91-be113a54fc9b",
   "metadata": {},
   "outputs": [],
   "source": [
    "from keras.wrappers.scikit_learn import KerasClassifier\n",
    "from keras.utils import np_utils\n",
    "\n",
    "# for modeling\n",
    "from keras.models import Sequential\n",
    "from keras.layers import Dense, Dropout\n",
    "from keras.callbacks import EarlyStopping"
   ]
  },
  {
   "cell_type": "code",
   "execution_count": 12,
   "id": "61dde64c-f826-4173-aeec-e638a2dcc0a2",
   "metadata": {},
   "outputs": [],
   "source": [
    "from sklearn.preprocessing import StandardScaler\n",
    "import lightgbm as lgb\n",
    "import imblearn\n",
    "from imblearn.over_sampling import SMOTE\n",
    "from sklearn.metrics import plot_confusion_matrix\n",
    "from sklearn.metrics import confusion_matrix\n",
    "from sklearn.metrics import classification_report"
   ]
  },
  {
   "cell_type": "code",
   "execution_count": 13,
   "id": "d66d96fe-d44f-47b3-b1cd-a5799785b824",
   "metadata": {},
   "outputs": [],
   "source": [
    "%load_ext autoreload\n",
    "%autoreload 2\n",
    "from ift6758.data.Feature_Engineering1 import combineAllFeatures\n",
    "from ift6758.data.Feature_Engineering2 import tidyData, getPreviousEvent"
   ]
  },
  {
   "cell_type": "markdown",
   "id": "cc48490a-e2fb-4093-b407-3f65e1baf09d",
   "metadata": {
    "jp-MarkdownHeadingCollapsed": true,
    "tags": []
   },
   "source": [
    "# EDA :"
   ]
  },
  {
   "cell_type": "code",
   "execution_count": 72,
   "id": "7dfd5d60-e9b5-4bd6-a3de-4eee38d9f034",
   "metadata": {
    "tags": []
   },
   "outputs": [],
   "source": [
    "df = pd.read_csv('featureEng_Train_set1.csv')"
   ]
  },
  {
   "cell_type": "code",
   "execution_count": 15,
   "id": "f58937df-bf1c-490b-8a37-6e2607f3060e",
   "metadata": {},
   "outputs": [
    {
     "name": "stdout",
     "output_type": "stream",
     "text": [
      "file already exsiste\n"
     ]
    },
    {
     "name": "stderr",
     "output_type": "stream",
     "text": [
      "/opt/anaconda3/lib/python3.9/site-packages/pandas/core/frame.py:4163: SettingWithCopyWarning: \n",
      "A value is trying to be set on a copy of a slice from a DataFrame\n",
      "\n",
      "See the caveats in the documentation: https://pandas.pydata.org/pandas-docs/stable/user_guide/indexing.html#returning-a-view-versus-a-copy\n",
      "  return super().drop(\n",
      "/Users/khadidjabourega/Documents/Fall_2022/Data_Science/Projects/Project2/IFT6758_project1-milestone-2/ift6758/data/Feature_Engineering2.py:129: SettingWithCopyWarning: \n",
      "A value is trying to be set on a copy of a slice from a DataFrame.\n",
      "Try using .loc[row_indexer,col_indexer] = value instead\n",
      "\n",
      "See the caveats in the documentation: https://pandas.pydata.org/pandas-docs/stable/user_guide/indexing.html#returning-a-view-versus-a-copy\n",
      "  df['time_from_last_event'] = df['periodSeconds'] - df['last_periodSeconds']\n",
      "/Users/khadidjabourega/Documents/Fall_2022/Data_Science/Projects/Project2/IFT6758_project1-milestone-2/ift6758/data/Feature_Engineering2.py:130: SettingWithCopyWarning: \n",
      "A value is trying to be set on a copy of a slice from a DataFrame.\n",
      "Try using .loc[row_indexer,col_indexer] = value instead\n",
      "\n",
      "See the caveats in the documentation: https://pandas.pydata.org/pandas-docs/stable/user_guide/indexing.html#returning-a-view-versus-a-copy\n",
      "  df['distance_from_last_event'] =  ((df[\"xCoord\"] - df[\"last_eventxCoord\"])**2 + (df[\"yCoord\"] - df[\"last_eventyCoord\"])**2)**0.5\n",
      "/Users/khadidjabourega/Documents/Fall_2022/Data_Science/Projects/Project2/IFT6758_project1-milestone-2/ift6758/data/Feature_Engineering2.py:131: SettingWithCopyWarning: \n",
      "A value is trying to be set on a copy of a slice from a DataFrame.\n",
      "Try using .loc[row_indexer,col_indexer] = value instead\n",
      "\n",
      "See the caveats in the documentation: https://pandas.pydata.org/pandas-docs/stable/user_guide/indexing.html#returning-a-view-versus-a-copy\n",
      "  df['rebound'] = np.where(df['last_EventType']=='Shot', True, False)\n",
      "/Users/khadidjabourega/Documents/Fall_2022/Data_Science/Projects/Project2/IFT6758_project1-milestone-2/ift6758/data/Feature_Engineering2.py:132: SettingWithCopyWarning: \n",
      "A value is trying to be set on a copy of a slice from a DataFrame.\n",
      "Try using .loc[row_indexer,col_indexer] = value instead\n",
      "\n",
      "See the caveats in the documentation: https://pandas.pydata.org/pandas-docs/stable/user_guide/indexing.html#returning-a-view-versus-a-copy\n",
      "  df['change_in_angle'] = np.where(df['last_EventType']=='Shot',np.where(df['yCoord'] *df['last_eventyCoord'] >0, ( df['Angle_from_net'] -df['last_Angle_from_net']),(df['Angle_from_net'] +df['last_Angle_from_net'])),0)\n",
      "/Users/khadidjabourega/Documents/Fall_2022/Data_Science/Projects/Project2/IFT6758_project1-milestone-2/ift6758/data/Feature_Engineering2.py:133: SettingWithCopyWarning: \n",
      "A value is trying to be set on a copy of a slice from a DataFrame.\n",
      "Try using .loc[row_indexer,col_indexer] = value instead\n",
      "\n",
      "See the caveats in the documentation: https://pandas.pydata.org/pandas-docs/stable/user_guide/indexing.html#returning-a-view-versus-a-copy\n",
      "  df['time_from_last_event'] = np.where(df['time_from_last_event'] ==0, 0.1, df['time_from_last_event'])\n",
      "/Users/khadidjabourega/Documents/Fall_2022/Data_Science/Projects/Project2/IFT6758_project1-milestone-2/ift6758/data/Feature_Engineering2.py:134: SettingWithCopyWarning: \n",
      "A value is trying to be set on a copy of a slice from a DataFrame.\n",
      "Try using .loc[row_indexer,col_indexer] = value instead\n",
      "\n",
      "See the caveats in the documentation: https://pandas.pydata.org/pandas-docs/stable/user_guide/indexing.html#returning-a-view-versus-a-copy\n",
      "  df['speed'] =  df['distance_from_last_event'] / df['time_from_last_event']\n"
     ]
    }
   ],
   "source": [
    "tidyData(2019)\n",
    "df_2019_2020 = pd.read_csv('./2019Milestone2Dataset.csv')\n",
    "test_set = combineAllFeatures(df_2019_2020)\n",
    "test_set = getPreviousEvent(test_set)"
   ]
  },
  {
   "cell_type": "code",
   "execution_count": 27,
   "id": "6b4f58fa-2241-42e4-aa57-40254cae071c",
   "metadata": {},
   "outputs": [
    {
     "data": {
      "text/html": [
       "<div>\n",
       "<style scoped>\n",
       "    .dataframe tbody tr th:only-of-type {\n",
       "        vertical-align: middle;\n",
       "    }\n",
       "\n",
       "    .dataframe tbody tr th {\n",
       "        vertical-align: top;\n",
       "    }\n",
       "\n",
       "    .dataframe thead th {\n",
       "        text-align: right;\n",
       "    }\n",
       "</style>\n",
       "<table border=\"1\" class=\"dataframe\">\n",
       "  <thead>\n",
       "    <tr style=\"text-align: right;\">\n",
       "      <th></th>\n",
       "      <th>gameID</th>\n",
       "      <th>eventType</th>\n",
       "      <th>period</th>\n",
       "      <th>periodTime</th>\n",
       "      <th>periodType</th>\n",
       "      <th>teamOfShooter</th>\n",
       "      <th>homeOrAway</th>\n",
       "      <th>xCoord</th>\n",
       "      <th>yCoord</th>\n",
       "      <th>shooter</th>\n",
       "      <th>...</th>\n",
       "      <th>last_eventyCoord</th>\n",
       "      <th>last_shotType</th>\n",
       "      <th>last_periodSeconds</th>\n",
       "      <th>last_Distance_from_net</th>\n",
       "      <th>last_Angle_from_net</th>\n",
       "      <th>time_from_last_event</th>\n",
       "      <th>distance_from_last_event</th>\n",
       "      <th>rebound</th>\n",
       "      <th>change_in_angle</th>\n",
       "      <th>speed</th>\n",
       "    </tr>\n",
       "  </thead>\n",
       "  <tbody>\n",
       "    <tr>\n",
       "      <th>4</th>\n",
       "      <td>2019020001</td>\n",
       "      <td>Goal</td>\n",
       "      <td>1</td>\n",
       "      <td>00:25</td>\n",
       "      <td>REGULAR</td>\n",
       "      <td>Ottawa Senators</td>\n",
       "      <td>away</td>\n",
       "      <td>85.0</td>\n",
       "      <td>-1.0</td>\n",
       "      <td>Brady Tkachuk</td>\n",
       "      <td>...</td>\n",
       "      <td>0.0</td>\n",
       "      <td>NaN</td>\n",
       "      <td>0.0</td>\n",
       "      <td>89.000000</td>\n",
       "      <td>0.000000</td>\n",
       "      <td>25.0</td>\n",
       "      <td>85.005882</td>\n",
       "      <td>False</td>\n",
       "      <td>0.0</td>\n",
       "      <td>3.400235</td>\n",
       "    </tr>\n",
       "    <tr>\n",
       "      <th>12</th>\n",
       "      <td>2019020001</td>\n",
       "      <td>Shot</td>\n",
       "      <td>1</td>\n",
       "      <td>01:31</td>\n",
       "      <td>REGULAR</td>\n",
       "      <td>Toronto Maple Leafs</td>\n",
       "      <td>home</td>\n",
       "      <td>-32.0</td>\n",
       "      <td>-2.0</td>\n",
       "      <td>Morgan Rielly</td>\n",
       "      <td>...</td>\n",
       "      <td>-31.0</td>\n",
       "      <td>NaN</td>\n",
       "      <td>64.0</td>\n",
       "      <td>61.400326</td>\n",
       "      <td>30.323607</td>\n",
       "      <td>27.0</td>\n",
       "      <td>29.274562</td>\n",
       "      <td>False</td>\n",
       "      <td>0.0</td>\n",
       "      <td>1.084243</td>\n",
       "    </tr>\n",
       "    <tr>\n",
       "      <th>19</th>\n",
       "      <td>2019020001</td>\n",
       "      <td>Shot</td>\n",
       "      <td>1</td>\n",
       "      <td>03:23</td>\n",
       "      <td>REGULAR</td>\n",
       "      <td>Ottawa Senators</td>\n",
       "      <td>away</td>\n",
       "      <td>63.0</td>\n",
       "      <td>-6.0</td>\n",
       "      <td>Dylan DeMelo</td>\n",
       "      <td>...</td>\n",
       "      <td>-4.0</td>\n",
       "      <td>NaN</td>\n",
       "      <td>189.0</td>\n",
       "      <td>25.317978</td>\n",
       "      <td>9.090277</td>\n",
       "      <td>14.0</td>\n",
       "      <td>127.015747</td>\n",
       "      <td>False</td>\n",
       "      <td>0.0</td>\n",
       "      <td>9.072553</td>\n",
       "    </tr>\n",
       "    <tr>\n",
       "      <th>22</th>\n",
       "      <td>2019020001</td>\n",
       "      <td>Shot</td>\n",
       "      <td>1</td>\n",
       "      <td>03:56</td>\n",
       "      <td>REGULAR</td>\n",
       "      <td>Toronto Maple Leafs</td>\n",
       "      <td>home</td>\n",
       "      <td>-59.0</td>\n",
       "      <td>-20.0</td>\n",
       "      <td>Morgan Rielly</td>\n",
       "      <td>...</td>\n",
       "      <td>-20.0</td>\n",
       "      <td>NaN</td>\n",
       "      <td>230.0</td>\n",
       "      <td>58.523500</td>\n",
       "      <td>19.983107</td>\n",
       "      <td>6.0</td>\n",
       "      <td>93.000000</td>\n",
       "      <td>False</td>\n",
       "      <td>0.0</td>\n",
       "      <td>15.500000</td>\n",
       "    </tr>\n",
       "    <tr>\n",
       "      <th>27</th>\n",
       "      <td>2019020001</td>\n",
       "      <td>Shot</td>\n",
       "      <td>1</td>\n",
       "      <td>04:47</td>\n",
       "      <td>REGULAR</td>\n",
       "      <td>Toronto Maple Leafs</td>\n",
       "      <td>home</td>\n",
       "      <td>-42.0</td>\n",
       "      <td>-29.0</td>\n",
       "      <td>Tyson Barrie</td>\n",
       "      <td>...</td>\n",
       "      <td>4.0</td>\n",
       "      <td>NaN</td>\n",
       "      <td>281.0</td>\n",
       "      <td>5.000000</td>\n",
       "      <td>53.130102</td>\n",
       "      <td>6.0</td>\n",
       "      <td>55.000000</td>\n",
       "      <td>False</td>\n",
       "      <td>0.0</td>\n",
       "      <td>9.166667</td>\n",
       "    </tr>\n",
       "  </tbody>\n",
       "</table>\n",
       "<p>5 rows × 37 columns</p>\n",
       "</div>"
      ],
      "text/plain": [
       "        gameID eventType  period periodTime periodType        teamOfShooter  \\\n",
       "4   2019020001      Goal       1      00:25    REGULAR      Ottawa Senators   \n",
       "12  2019020001      Shot       1      01:31    REGULAR  Toronto Maple Leafs   \n",
       "19  2019020001      Shot       1      03:23    REGULAR      Ottawa Senators   \n",
       "22  2019020001      Shot       1      03:56    REGULAR  Toronto Maple Leafs   \n",
       "27  2019020001      Shot       1      04:47    REGULAR  Toronto Maple Leafs   \n",
       "\n",
       "   homeOrAway  xCoord  yCoord        shooter  ... last_eventyCoord  \\\n",
       "4        away    85.0    -1.0  Brady Tkachuk  ...              0.0   \n",
       "12       home   -32.0    -2.0  Morgan Rielly  ...            -31.0   \n",
       "19       away    63.0    -6.0   Dylan DeMelo  ...             -4.0   \n",
       "22       home   -59.0   -20.0  Morgan Rielly  ...            -20.0   \n",
       "27       home   -42.0   -29.0   Tyson Barrie  ...              4.0   \n",
       "\n",
       "   last_shotType last_periodSeconds last_Distance_from_net  \\\n",
       "4            NaN                0.0              89.000000   \n",
       "12           NaN               64.0              61.400326   \n",
       "19           NaN              189.0              25.317978   \n",
       "22           NaN              230.0              58.523500   \n",
       "27           NaN              281.0               5.000000   \n",
       "\n",
       "    last_Angle_from_net time_from_last_event  distance_from_last_event  \\\n",
       "4              0.000000                 25.0                 85.005882   \n",
       "12            30.323607                 27.0                 29.274562   \n",
       "19             9.090277                 14.0                127.015747   \n",
       "22            19.983107                  6.0                 93.000000   \n",
       "27            53.130102                  6.0                 55.000000   \n",
       "\n",
       "    rebound  change_in_angle      speed  \n",
       "4     False              0.0   3.400235  \n",
       "12    False              0.0   1.084243  \n",
       "19    False              0.0   9.072553  \n",
       "22    False              0.0  15.500000  \n",
       "27    False              0.0   9.166667  \n",
       "\n",
       "[5 rows x 37 columns]"
      ]
     },
     "execution_count": 27,
     "metadata": {},
     "output_type": "execute_result"
    }
   ],
   "source": [
    "test_set.head()"
   ]
  },
  {
   "cell_type": "markdown",
   "id": "277ae424-7f49-4aee-9b48-b0030c3c56d2",
   "metadata": {
    "jp-MarkdownHeadingCollapsed": true,
    "tags": []
   },
   "source": [
    "# Regular vs Playoff data :"
   ]
  },
  {
   "cell_type": "code",
   "execution_count": 40,
   "id": "6627751f-e610-48a8-bd41-8778ceb80d43",
   "metadata": {},
   "outputs": [],
   "source": [
    "test_set_regular = test_set[test_set['gameID'].astype(str).str.startswith('201902')]\n",
    "test_set_playoff = test_set[test_set['gameID'].astype(str).str.startswith('201903')]"
   ]
  },
  {
   "cell_type": "markdown",
   "id": "8f108103-4fbe-4401-814c-e244b29ad682",
   "metadata": {},
   "source": [
    "CHeking for missing values : "
   ]
  },
  {
   "cell_type": "code",
   "execution_count": 41,
   "id": "892da9fa-c0cc-42b3-9120-dc3c62e15464",
   "metadata": {},
   "outputs": [],
   "source": [
    "test_set_regular= test_set_regular[['period','periodType','teamOfShooter','shotType','empty_Net','Distance_from_net','Angle_from_net','time_from_last_event','distance_from_last_event','rebound','change_in_angle','speed','Is_goal']]\n",
    "test_set_playoff= test_set_playoff[['period','periodType','teamOfShooter','shotType','empty_Net','Distance_from_net','Angle_from_net','time_from_last_event','distance_from_last_event','rebound','change_in_angle','speed','Is_goal']]"
   ]
  },
  {
   "cell_type": "code",
   "execution_count": 42,
   "id": "2bb4e9c0-7f8a-4a2f-8609-51cc2bf427fe",
   "metadata": {},
   "outputs": [],
   "source": [
    "test_set_regular.dropna(inplace = True)\n",
    "test_set_playoff.dropna(inplace = True)"
   ]
  },
  {
   "cell_type": "code",
   "execution_count": 45,
   "id": "8db0762b-f64f-4a5e-a137-d7697de8f8e3",
   "metadata": {},
   "outputs": [
    {
     "data": {
      "text/plain": [
       "array(['REGULAR', 'OVERTIME'], dtype=object)"
      ]
     },
     "execution_count": 45,
     "metadata": {},
     "output_type": "execute_result"
    }
   ],
   "source": [
    "test_set_playoff.periodType.unique()"
   ]
  },
  {
   "cell_type": "markdown",
   "id": "140acdec-44d8-4eb2-9de1-0f5bccae3162",
   "metadata": {
    "jp-MarkdownHeadingCollapsed": true,
    "tags": []
   },
   "source": [
    "# Feature encoding :"
   ]
  },
  {
   "cell_type": "code",
   "execution_count": 46,
   "id": "5931cad2-2fa9-403b-b474-4a0451bfe623",
   "metadata": {},
   "outputs": [],
   "source": [
    "test_set_regular[['periodType_OVERTIME','periodType_REGULAR','periodType_SHOOTOUT' ]] = pd.get_dummies(test_set_regular[['periodType']])\n",
    "test_set_playoff[['periodType_OVERTIME','periodType_REGULAR' ]] = pd.get_dummies(test_set_playoff[['periodType']])"
   ]
  },
  {
   "cell_type": "code",
   "execution_count": 47,
   "id": "0f811940-1649-4b2f-8267-204ec447fa85",
   "metadata": {},
   "outputs": [],
   "source": [
    "encoder = ce.LeaveOneOutEncoder(return_df=True)\n",
    "test_set_regular['teamOfShooter'] = encoder.fit_transform(test_set_regular['teamOfShooter'], test_set_regular['Is_goal'])\n",
    "test_set_playoff['teamOfShooter'] = encoder.fit_transform(test_set_playoff['teamOfShooter'], test_set_playoff['Is_goal'])"
   ]
  },
  {
   "cell_type": "code",
   "execution_count": 48,
   "id": "747b0ad4-c491-4cb1-b730-ca865d71edc1",
   "metadata": {},
   "outputs": [],
   "source": [
    "from sklearn.preprocessing import OrdinalEncoder\n",
    "# define ordinal encoding\n",
    "encoder = OrdinalEncoder(categories=[['Slap Shot', 'Wrap-around','Wrist Shot','Snap Shot','Backhand','Deflected','Tip-In']])\n",
    "# transform data\n",
    "test_set_regular[\"shotType\"] = encoder.fit_transform(test_set_regular[[\"shotType\"]])\n",
    "test_set_playoff[\"shotType\"] = encoder.fit_transform(test_set_playoff[[\"shotType\"]])"
   ]
  },
  {
   "cell_type": "code",
   "execution_count": 49,
   "id": "72283cdc-7f1f-4283-9392-7431c0ad3196",
   "metadata": {},
   "outputs": [],
   "source": [
    "test_set_regular =test_set_regular.drop(['periodType','periodType_SHOOTOUT'], axis=1)\n",
    "test_set_playoff =test_set_playoff.drop(['periodType'], axis=1)"
   ]
  },
  {
   "cell_type": "markdown",
   "id": "2b61a8bd-f122-4206-85e7-d4413ad4dfd2",
   "metadata": {
    "jp-MarkdownHeadingCollapsed": true,
    "tags": []
   },
   "source": [
    "# Feature selection :"
   ]
  },
  {
   "cell_type": "code",
   "execution_count": 51,
   "id": "d446b169-20d9-44fb-b954-a167f9e358ac",
   "metadata": {},
   "outputs": [],
   "source": [
    "X_regular = test_set_regular[['teamOfShooter','shotType','empty_Net','Distance_from_net','Angle_from_net','time_from_last_event','distance_from_last_event','change_in_angle','speed']]\n",
    "X_playoff = test_set_playoff[['teamOfShooter','shotType','empty_Net','Distance_from_net','Angle_from_net','time_from_last_event','distance_from_last_event','change_in_angle','speed']]\n",
    "y_regular = test_set_regular['Is_goal']  \n",
    "y_playoff = test_set_playoff['Is_goal']  "
   ]
  },
  {
   "cell_type": "markdown",
   "id": "6f2eba12-8168-41b4-a424-2ae3864ee85e",
   "metadata": {
    "jp-MarkdownHeadingCollapsed": true,
    "tags": []
   },
   "source": [
    "# Data standarisation :"
   ]
  },
  {
   "cell_type": "code",
   "execution_count": 52,
   "id": "ccdb8852-c41a-4f6a-abf2-031e735e6109",
   "metadata": {},
   "outputs": [],
   "source": [
    "scaler = StandardScaler()\n",
    "X_regular = scaler.fit_transform(X_regular)\n",
    "y_regular = y_regular.values\n",
    "X_playoff = scaler.fit_transform(X_playoff)\n",
    "y_playoff = y_playoff.values"
   ]
  },
  {
   "cell_type": "markdown",
   "id": "9a8b7836-94e8-4e1b-990e-dfee789dbce8",
   "metadata": {
    "jp-MarkdownHeadingCollapsed": true,
    "tags": []
   },
   "source": [
    "# DOWNLOAD THE MODEL :"
   ]
  },
  {
   "cell_type": "code",
   "execution_count": 107,
   "id": "1b8bb356-214e-4122-b34b-04e23607d728",
   "metadata": {},
   "outputs": [],
   "source": [
    "#from comet_ml import API\n",
    "\n",
    "#api = API(api_key=\"LgN3RhQfuVAcQnKyC9X0Gk1PC\")\n",
    "\n",
    "#experiment = api.get(\"yasmine/ift6758-a22-milestone-2/neural network - best param - smote method\")\n",
    "#experiment.register_model(\"Try best shot6\")"
   ]
  },
  {
   "cell_type": "code",
   "execution_count": 103,
   "id": "beb6e721-4de7-40ef-a324-e5ad09a60401",
   "metadata": {},
   "outputs": [
    {
     "name": "stderr",
     "output_type": "stream",
     "text": [
      "COMET INFO: Downloading experiment model 'Try best shot6' ...\n",
      "COMET INFO: Unzipping model to '../models' ...\n",
      "COMET INFO: done!\n",
      "COMET INFO: Downloading registry model 'try-best-shot6', version '1.0.0', stage None from workspace 'yasmine'...\n",
      "COMET INFO: Unzipping model to '/Users/khadidjabourega/Documents/Fall_2022/Data_Science/Projects/Project2/IFT6758_project1-milestone-2/models' ...\n",
      "COMET INFO: done!\n"
     ]
    }
   ],
   "source": [
    "from comet_ml import API\n",
    "\n",
    "api = API(api_key=\"LgN3RhQfuVAcQnKyC9X0Gk1PC\")\n",
    "filename = '../models/try-best-shot5.sav'\n",
    "experiment = api.get(\"yasmine/ift6758-a22-milestone-2/final model\")\n",
    "\n",
    "# Download an Experiment Model:\n",
    "experiment.download_model(\"Try best shot6\", output_path=\"../models\", expand=True)\n",
    "\n",
    "# Download a Registry Model:\n",
    "api.download_registry_model(\"yasmine\", \"try-best-shot6\", \"1.0.0\",\n",
    "                            output_path=\"../models\", expand=True)"
   ]
  },
  {
   "cell_type": "code",
   "execution_count": 104,
   "id": "f05bf9f1-96a5-443a-98cb-e5c27a3b461a",
   "metadata": {},
   "outputs": [
    {
     "name": "stdout",
     "output_type": "stream",
     "text": [
      "2118/2118 [==============================] - 1s 413us/step\n"
     ]
    }
   ],
   "source": [
    "from joblib import load\n",
    "Neural_netowrk = load('../models/TryBestShot_bestmodel.sav')"
   ]
  },
  {
   "cell_type": "markdown",
   "id": "03f8f75e-0628-4e91-827e-dec56b46e051",
   "metadata": {
    "jp-MarkdownHeadingCollapsed": true,
    "tags": []
   },
   "source": [
    "# REGULAR DATA RESULTS :"
   ]
  },
  {
   "cell_type": "code",
   "execution_count": 128,
   "id": "6e0e3ce6-c6c8-4c69-bb13-2520f14800e8",
   "metadata": {},
   "outputs": [
    {
     "name": "stdout",
     "output_type": "stream",
     "text": [
      "2118/2118 [==============================] - 1s 401us/step\n",
      "2118/2118 [==============================] - 1s 398us/step\n",
      "2118/2118 [==============================] - 1s 385us/step\n",
      "2118/2118 [==============================] - 1s 382us/step\n",
      "[[49334 11848]\n",
      " [ 2997  3581]]\n",
      "              precision    recall  f1-score   support\n",
      "\n",
      "           0       0.94      0.81      0.87     61182\n",
      "           1       0.23      0.54      0.33      6578\n",
      "\n",
      "    accuracy                           0.78     67760\n",
      "   macro avg       0.59      0.68      0.60     67760\n",
      "weighted avg       0.87      0.78      0.82     67760\n",
      "\n"
     ]
    }
   ],
   "source": [
    "preds_reg = Neural_netowrk.predict(X_regular)\n",
    "# see how these are numbers between 0 and 1? \n",
    "Neural_netowrk.predict(X_regular) # prob of successes \n",
    "np.round(Neural_netowrk.predict(X_regular),0) # 1 and 0 \n",
    "y_regular # 1 and 0 (survival or not)\n",
    "\n",
    "preds = np.round(Neural_netowrk.predict(X_regular),0)\n",
    "\n",
    "# confusion matrix\n",
    "print(confusion_matrix(y_regular, preds))\n",
    "\n",
    "print(classification_report(y_regular, preds))"
   ]
  },
  {
   "cell_type": "code",
   "execution_count": 120,
   "id": "d521373c-7fdb-4541-9fe5-4ab75edb632b",
   "metadata": {},
   "outputs": [
    {
     "name": "stdout",
     "output_type": "stream",
     "text": [
      "2118/2118 [==============================] - 1s 401us/step\n"
     ]
    },
    {
     "data": {
      "text/plain": [
       "array([0.69146496, 0.0750436 , 0.50440025, ..., 0.45524508, 0.6036221 ,\n",
       "       0.43931317], dtype=float32)"
      ]
     },
     "execution_count": 120,
     "metadata": {},
     "output_type": "execute_result"
    }
   ],
   "source": [
    "y_proba_val_REG = Neural_netowrk.predict(X_regular)\n",
    "y_proba_val_REG = np.concatenate([y_regular for y_regular in y_proba_val_REG], axis=0)\n",
    "y_proba_val_REG"
   ]
  },
  {
   "cell_type": "code",
   "execution_count": 121,
   "id": "5a2456d6-ab4d-47a8-9ab0-a5557b607525",
   "metadata": {},
   "outputs": [
    {
     "data": {
      "image/png": "[encoded data removed]",
      "text/plain": [
       "<Figure size 432x288 with 1 Axes>"
      ]
     },
     "metadata": {
      "needs_background": "light"
     },
     "output_type": "display_data"
    }
   ],
   "source": [
    "from sklearn.metrics import roc_curve, auc\n",
    "\n",
    "\n",
    "a, b, _ = roc_curve(y_regular, y_proba_val_REG)\n",
    "roc_auc_d = auc(a, b)\n",
    "plt.figure()\n",
    "plt.plot(\n",
    "    a,\n",
    "    b,\n",
    "    color=\"yellow\",\n",
    "    lw=2,\n",
    "    label=\"ROC curve (area = %0.2f)\" % roc_auc_d,\n",
    ")\n",
    "xy=[0, 1]\n",
    "plt.plot(xy, xy, color=\"navy\", lw=2, linestyle=\"--\")\n",
    "plt.xlim([0.0, 1.0])\n",
    "plt.ylim([0.0, 1.05])\n",
    "plt.xlabel(\"False Positive Rate\")\n",
    "plt.ylabel(\"True Positive Rate\")\n",
    "plt.title(\"ROC of Neural network (Regular season)\")\n",
    "plt.legend(loc=\"lower right\")\n",
    "\n",
    "plt.savefig('../figures/q71_NN_ROC_regular.png')\n",
    "plt.show()"
   ]
  },
  {
   "cell_type": "code",
   "execution_count": 113,
   "id": "5eb57e3e-b0e3-440c-810a-178dfb7c9988",
   "metadata": {},
   "outputs": [
    {
     "data": {
      "image/png": "[encoded data removed]",
      "text/plain": [
       "<Figure size 432x288 with 1 Axes>"
      ]
     },
     "metadata": {
      "needs_background": "light"
     },
     "output_type": "display_data"
    },
    {
     "data": {
      "image/png": "[encoded data removed]",
      "text/plain": [
       "<Figure size 432x288 with 1 Axes>"
      ]
     },
     "metadata": {
      "needs_background": "light"
     },
     "output_type": "display_data"
    }
   ],
   "source": [
    "#model percentile\n",
    "iu = y_proba_val_REG\n",
    "n = len(iu)\n",
    "x_axis = np.arange(n)[::-1]*(100/n)\n",
    "#print(x_axis)\n",
    "\n",
    "iu_y = iu[::-1]\n",
    "iu_y[::-1].sort()\n",
    "# print(sum(lr_probs_y))\n",
    "#print(lr_probs_y)\n",
    "iu_y_sum = np.cumsum(iu_y)\n",
    "\n",
    "\n",
    "plt.figure()\n",
    "plt.plot(\n",
    "    x_axis,\n",
    "    iu_y,\n",
    "    label = 'Neural network (Regular season)'\n",
    ")\n",
    "plt.xlim([100, 0])\n",
    "plt.ylim([0.0, 1.0])\n",
    "plt.xlabel(\"Shot prob model percentile\")\n",
    "plt.ylabel(\"Goals / (Shots + Goals)\")\n",
    "plt.title(\"Goal Rate of Neural network (Regular season)\")\n",
    "plt.legend(loc=\"lower right\")\n",
    "plt.savefig('../figures/q71_NN.png')\n",
    "plt.show()\n",
    "\n",
    "#cumulative plot\n",
    "plt.figure()\n",
    "plt.plot(\n",
    "    x_axis,\n",
    "    iu_y_sum/sum(iu_y),\n",
    "    label = 'Neural network (Regular season)'\n",
    ")\n",
    "plt.xlim([100, 0])\n",
    "plt.ylim([0.0, 1.0])\n",
    "plt.xlabel(\"Shot prob model percentile\")\n",
    "plt.ylabel(\"Proportion\")\n",
    "plt.title(\"Cumulative % of goals\")\n",
    "plt.legend(loc=\"lower right\")\n",
    "plt.savefig('../figures/q71_nn_CP_Regular_season.png')\n",
    "plt.show()"
   ]
  },
  {
   "cell_type": "code",
   "execution_count": 114,
   "id": "e4f2db44-8760-4a51-b7a7-4960f1209e87",
   "metadata": {},
   "outputs": [
    {
     "data": {
      "image/png": "[encoded data removed]",
      "text/plain": [
       "<Figure size 432x288 with 1 Axes>"
      ]
     },
     "metadata": {
      "needs_background": "light"
     },
     "output_type": "display_data"
    }
   ],
   "source": [
    "from sklearn.calibration import CalibrationDisplay\n",
    "disp = CalibrationDisplay.from_predictions(y_regular, y_proba_val_REG,n_bins=100)\n",
    "plt.title(\"Reliability diagram\")\n",
    "plt.savefig('../figures/71_NN_Reliability_diagram_regular_season.png')\n",
    "plt.show()"
   ]
  },
  {
   "cell_type": "markdown",
   "id": "3d203517-f27a-4842-a757-3a087fd34fc8",
   "metadata": {
    "jp-MarkdownHeadingCollapsed": true,
    "tags": []
   },
   "source": [
    "# PLAYOFF DATA RESULTS :"
   ]
  },
  {
   "cell_type": "code",
   "execution_count": 115,
   "id": "8c0afa6b-9329-4046-a60f-d79154357e08",
   "metadata": {},
   "outputs": [
    {
     "name": "stdout",
     "output_type": "stream",
     "text": [
      "153/153 [==============================] - 0s 415us/step\n",
      "153/153 [==============================] - 0s 398us/step\n",
      "153/153 [==============================] - 0s 397us/step\n",
      "153/153 [==============================] - 0s 408us/step\n",
      "[[3601  848]\n",
      " [ 317  117]]\n",
      "              precision    recall  f1-score   support\n",
      "\n",
      "           0       0.92      0.81      0.86      4449\n",
      "           1       0.12      0.27      0.17       434\n",
      "\n",
      "    accuracy                           0.76      4883\n",
      "   macro avg       0.52      0.54      0.51      4883\n",
      "weighted avg       0.85      0.76      0.80      4883\n",
      "\n"
     ]
    }
   ],
   "source": [
    "preds_reg = Neural_netowrk.predict(X_playoff)\n",
    "# see how these are numbers between 0 and 1? \n",
    "Neural_netowrk.predict(X_playoff) # prob of successes \n",
    "np.round(Neural_netowrk.predict(X_playoff),0) # 1 and 0 \n",
    "y_playoff # 1 and 0 (survival or not)\n",
    "\n",
    "preds = np.round(Neural_netowrk.predict(X_playoff),0)\n",
    "\n",
    "# confusion matrix\n",
    "print(confusion_matrix(y_playoff, preds))\n",
    "\n",
    "print(classification_report(y_playoff, preds))"
   ]
  },
  {
   "cell_type": "code",
   "execution_count": 124,
   "id": "bad46793-d171-473c-99a2-abcbcea63e06",
   "metadata": {},
   "outputs": [
    {
     "name": "stdout",
     "output_type": "stream",
     "text": [
      "153/153 [==============================] - 0s 429us/step\n"
     ]
    },
    {
     "data": {
      "text/plain": [
       "array([0.7699082 , 0.3177149 , 0.43604204, ..., 0.05858918, 0.19858828,\n",
       "       0.00816998], dtype=float32)"
      ]
     },
     "execution_count": 124,
     "metadata": {},
     "output_type": "execute_result"
    }
   ],
   "source": [
    "y_proba_val_POFF = Neural_netowrk.predict(X_playoff)\n",
    "y_proba_val_POFF = np.concatenate([y_playoff for y_playoff in y_proba_val_POFF], axis=0)\n",
    "y_proba_val_POFF"
   ]
  },
  {
   "cell_type": "code",
   "execution_count": 125,
   "id": "ce37c933-22d6-4611-887c-22ce407b53d8",
   "metadata": {},
   "outputs": [
    {
     "data": {
      "image/png": "[encoded data removed]",
      "text/plain": [
       "<Figure size 432x288 with 1 Axes>"
      ]
     },
     "metadata": {
      "needs_background": "light"
     },
     "output_type": "display_data"
    }
   ],
   "source": [
    "from sklearn.metrics import roc_curve, auc\n",
    "\n",
    "\n",
    "a, b, _ = roc_curve(y_playoff, y_proba_val_POFF)\n",
    "roc_auc_d = auc(a, b)\n",
    "plt.figure()\n",
    "plt.plot(\n",
    "    a,\n",
    "    b,\n",
    "    color=\"yellow\",\n",
    "    lw=2,\n",
    "    label=\"ROC curve (area = %0.2f)\" % roc_auc_d,\n",
    ")\n",
    "xy=[0, 1]\n",
    "plt.plot(xy, xy, color=\"navy\", lw=2, linestyle=\"--\")\n",
    "plt.xlim([0.0, 1.0])\n",
    "plt.ylim([0.0, 1.05])\n",
    "plt.xlabel(\"False Positive Rate\")\n",
    "plt.ylabel(\"True Positive Rate\")\n",
    "plt.title(\"ROC of Neural network (Playoff season)\")\n",
    "plt.legend(loc=\"lower right\")\n",
    "\n",
    "plt.savefig('../figures/q71_NN_ROC_playoff.png')\n",
    "plt.show()"
   ]
  },
  {
   "cell_type": "code",
   "execution_count": 126,
   "id": "d0e66446-d72c-4e89-8aef-76831519676a",
   "metadata": {},
   "outputs": [
    {
     "data": {
      "image/png": "[encoded data removed]",
      "text/plain": [
       "<Figure size 432x288 with 1 Axes>"
      ]
     },
     "metadata": {
      "needs_background": "light"
     },
     "output_type": "display_data"
    },
    {
     "data": {
      "image/png": "[encoded data removed]",
      "text/plain": [
       "<Figure size 432x288 with 1 Axes>"
      ]
     },
     "metadata": {
      "needs_background": "light"
     },
     "output_type": "display_data"
    }
   ],
   "source": [
    "#model percentile\n",
    "iu = y_proba_val_POFF\n",
    "n = len(iu)\n",
    "x_axis = np.arange(n)[::-1]*(100/n)\n",
    "#print(x_axis)\n",
    "\n",
    "iu_y = iu[::-1]\n",
    "iu_y[::-1].sort()\n",
    "# print(sum(lr_probs_y))\n",
    "#print(lr_probs_y)\n",
    "iu_y_sum = np.cumsum(iu_y)\n",
    "\n",
    "\n",
    "plt.figure()\n",
    "plt.plot(\n",
    "    x_axis,\n",
    "    iu_y,\n",
    "    label = 'Neural network (Playoff season)'\n",
    ")\n",
    "plt.xlim([100, 0])\n",
    "plt.ylim([0.0, 1.0])\n",
    "plt.xlabel(\"Shot prob model percentile\")\n",
    "plt.ylabel(\"Goals / (Shots + Goals)\")\n",
    "plt.title(\"Goal Rate of Neural network (Playoff season)\")\n",
    "plt.legend(loc=\"lower right\")\n",
    "plt.savefig('../figures/q71_NN_playoff.png')\n",
    "plt.show()\n",
    "\n",
    "#cumulative plot\n",
    "plt.figure()\n",
    "plt.plot(\n",
    "    x_axis,\n",
    "    iu_y_sum/sum(iu_y),\n",
    "    label = 'Neural network (Playoff season)'\n",
    ")\n",
    "plt.xlim([100, 0])\n",
    "plt.ylim([0.0, 1.0])\n",
    "plt.xlabel(\"Shot prob model percentile\")\n",
    "plt.ylabel(\"Proportion\")\n",
    "plt.title(\"Cumulative % of goals\")\n",
    "plt.legend(loc=\"lower right\")\n",
    "plt.savefig('../figures/q71_nn_CP_playoff_season.png')\n",
    "plt.show()"
   ]
  },
  {
   "cell_type": "code",
   "execution_count": 127,
   "id": "5a78da66-04bd-416e-84fc-e2f6918757f8",
   "metadata": {},
   "outputs": [
    {
     "data": {
      "image/png": "[encoded data removed]",
      "text/plain": [
       "<Figure size 432x288 with 1 Axes>"
      ]
     },
     "metadata": {
      "needs_background": "light"
     },
     "output_type": "display_data"
    }
   ],
   "source": [
    "from sklearn.calibration import CalibrationDisplay\n",
    "disp = CalibrationDisplay.from_predictions(y_playoff, y_proba_val_POFF,n_bins=100)\n",
    "plt.title(\"Reliability diagram\")\n",
    "plt.savefig('../figures/71_NN_Reliability_diagram_playoff_season.png')\n",
    "plt.show()"
   ]
  }
 ],
 "metadata": {
  "kernelspec": {
   "display_name": "Python 3 (ipykernel)",
   "language": "python",
   "name": "python3"
  },
  "language_info": {
   "codemirror_mode": {
    "name": "ipython",
    "version": 3
   },
   "file_extension": ".py",
   "mimetype": "text/x-python",
   "name": "python",
   "nbconvert_exporter": "python",
   "pygments_lexer": "ipython3",
   "version": "3.9.12"
  }
 },
 "nbformat": 4,
 "nbformat_minor": 5
}
