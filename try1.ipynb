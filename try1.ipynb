{
 "cells": [
  {
   "cell_type": "markdown",
   "id": "c7a6b234",
   "metadata": {},
   "source": [
    "A nice pattern could be to define a function that accepts the target year and a filepath as an argument and then checks at the specified filepath for a file corresponding to the dataset you are going to download. If it exists, it could immediately open up the file and return the saved contents. If not, it could download the contents from the REST API and save it to the file before returning the data. This means that the first time you run this function, it will automatically download and cache the data locally, and the next time you run the same function, it will instead load the local data. Consider using environment variables to allow each teammate to specify different locations, and having your function automatically retrieve the location specified by the environment variable so you don’t have to fight about paths in your git repository.\n"
   ]
  },
  {
   "cell_type": "markdown",
   "id": "97318f66",
   "metadata": {},
   "source": [
    "seasons: 2016,2017,2018,2019,2020\n",
    "02 = regular season, 03 = playoffs,\n",
    "\n",
    "The first 4 digits identify the season of the game (ie. 2017 for the 2017-2018 season). The next 2 digits give the type of game, where 01 = preseason, 02 = regular season, 03 = playoffs, 04 = all-star. The final 4 digits identify the specific game number. For regular season and preseason games, this ranges from 0001 to the number of games played. (1271 for seasons with 31 teams (2017 and onwards) and 1230 for seasons with 30 teams). For playoff games, the 2nd digit of the specific number gives the round of the playoffs, the 3rd digit specifies the matchup, and the 4th digit specifies the game (out of 7).\n",
    "\n",
    "regular:\n",
    "combinations formed for 2016: year/02/0001se1230 \n",
    "combinations formed for 2017se2020: year/02/0001se1271\n",
    "\n",
    "playoff:\n",
    "combinations formed for: year/03/"
   ]
  },
  {
   "cell_type": "code",
   "execution_count": 51,
   "id": "b844ddc2",
   "metadata": {},
   "outputs": [
    {
     "name": "stderr",
     "output_type": "stream",
     "text": [
      "/var/folders/x0/nwzkvw4x5g55cyxllzlc0gkm0000gn/T/ipykernel_839/2167717142.py:20: DeprecationWarning: cafile, capath and cadefault are deprecated, use a custom context instead.\n",
      "  response_r = urlopen(url_r,cafile=certifi.where())\n",
      "/var/folders/x0/nwzkvw4x5g55cyxllzlc0gkm0000gn/T/ipykernel_839/2167717142.py:40: DeprecationWarning: cafile, capath and cadefault are deprecated, use a custom context instead.\n",
      "  response_p = urlopen(url_p,cafile=certifi.where())\n"
     ]
    },
    {
     "name": "stdout",
     "output_type": "stream",
     "text": [
      "<class 'dict'>\n"
     ]
    }
   ],
   "source": [
    "from urllib.request import urlopen\n",
    "import json\n",
    "import certifi\n",
    "import pandas as pd\n",
    "\n",
    "def extract(year):\n",
    "    \n",
    "    playoff_code=\"0\"+str(3);\n",
    "    \n",
    "\n",
    "#regular data file\n",
    "    regular_code=\"0\"+str(2);\n",
    "    a=[\"%04d\" % x for x in range(1230)]\n",
    "    b=[\"%04d\" % x for x in range(1271)]\n",
    "    \n",
    "    if(year==2016):\n",
    "        for i in range(1,1231):\n",
    "            code_r=str(a[i])\n",
    "            url_r = \"https://statsapi.web.nhl.com/api/v1/game/\"+str(year)+regular_code+code_r+\"/feed/live/\"\n",
    "            response_r = urlopen(url_r,cafile=certifi.where())\n",
    "            data_r = json.loads(response_r.read())\n",
    "            df_r = pd.DataFrame.from_dict(data_r)\n",
    "            file_name_r=str(year)+regular_code+code_r+\".csv\"\n",
    "            df_r.to_csv (file_name_r, index = False, header=True)\n",
    "\n",
    "    else:\n",
    "        for i in range(1,1272):\n",
    "            code_r=str(b[i])\n",
    "            url_r = \"https://statsapi.web.nhl.com/api/v1/game/\"+str(year)+regular_code+code_r+\"/feed/live/\"\n",
    "            response_r = urlopen(url_r,cafile=certifi.where())\n",
    "            data_r = json.loads(response_r.read())\n",
    "            df_r = pd.DataFrame.from_dict(data_r)\n",
    "            file_name_r=str(year)+regular_code+code_r+\".csv\"\n",
    "            df_r.to_csv (file_name_r, index = False, header=True)\n",
    "        \n",
    "\n",
    "#playoff data file (in progress code)\n",
    "\n",
    "    code_p=str(111)\n",
    "    \n",
    "    url_p = \"https://statsapi.web.nhl.com/api/v1/game/\"+str(year)+playoff_code+\"0\"+code_p+\"/feed/live/\"\n",
    "    response_p = urlopen(url_p,cafile=certifi.where())\n",
    "    data_p = json.loads(response_p.read())\n",
    "    print(type(data_p))\n",
    "    df_p = pd.DataFrame.from_dict(data_p) \n",
    "    file_name_p=str(year)+playoff_code+\"0\"+code_p+\".csv\"\n",
    "    df_p.to_csv (file_name_p, index = False, header=True)\n",
    "    \n",
    "\n",
    "    \n",
    "extract(2016)"
   ]
  },
  {
   "cell_type": "code",
   "execution_count": null,
   "id": "f3e09b3e",
   "metadata": {},
   "outputs": [],
   "source": []
  }
 ],
 "metadata": {
  "kernelspec": {
   "display_name": "Python 3 (ipykernel)",
   "language": "python",
   "name": "python3"
  },
  "language_info": {
   "codemirror_mode": {
    "name": "ipython",
    "version": 3
   },
   "file_extension": ".py",
   "mimetype": "text/x-python",
   "name": "python",
   "nbconvert_exporter": "python",
   "pygments_lexer": "ipython3",
   "version": "3.10.7"
  }
 },
 "nbformat": 4,
 "nbformat_minor": 5
}
