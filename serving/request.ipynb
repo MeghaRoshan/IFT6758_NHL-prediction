{
 "cells": [
  {
   "cell_type": "code",
   "execution_count": 1,
   "id": "7e05da7d-d93a-410c-9d2c-98ae8ca19c78",
   "metadata": {},
   "outputs": [],
   "source": [
    "%load_ext autoreload\n",
    "%autoreload 2"
   ]
  },
  {
   "cell_type": "code",
   "execution_count": 30,
   "id": "0f0770a9-28ff-449f-abcd-9f62ed423af7",
   "metadata": {},
   "outputs": [],
   "source": [
    "import requests\n",
    "import json\n",
    "import pandas as pd\n",
    "from ift6758.data.dataLoader import test_data_loader\n",
    "from flask import request"
   ]
  },
  {
   "cell_type": "markdown",
   "id": "dbaf3259-34b9-43af-a5be-1633fa2fa78b",
   "metadata": {
    "tags": []
   },
   "source": [
    "### question 1"
   ]
  },
  {
   "cell_type": "code",
   "execution_count": null,
   "id": "4cbd054e-2e12-4967-91ea-abbe2b6a2fe1",
   "metadata": {},
   "outputs": [],
   "source": [
    "requests.get(\"http://127.0.0.1:8890/logs\").json()"
   ]
  },
  {
   "cell_type": "markdown",
   "id": "af7d5ecd-55f0-45c9-9a75-ebd6b6afad0d",
   "metadata": {
    "tags": []
   },
   "source": [
    "### question 2"
   ]
  },
  {
   "cell_type": "code",
   "execution_count": 100,
   "id": "cd5ab28b-460e-4aa9-b3cc-590c96e24a3e",
   "metadata": {},
   "outputs": [],
   "source": [
    "import warnings\n",
    "warnings.filterwarnings('ignore')"
   ]
  },
  {
   "cell_type": "code",
   "execution_count": 4,
   "id": "8b780bd9-bc19-4d81-83af-91416d389598",
   "metadata": {},
   "outputs": [],
   "source": [
    "x_test = test_data_loader()"
   ]
  },
  {
   "cell_type": "code",
   "execution_count": 54,
   "id": "7e14ef93-b483-4d39-bc75-805bd057f9da",
   "metadata": {},
   "outputs": [],
   "source": [
    "x_test =  x_test.reset_index().drop(columns ='index')"
   ]
  },
  {
   "cell_type": "code",
   "execution_count": 20,
   "id": "eed67f54-c101-4f31-848e-d8bd440c0ca7",
   "metadata": {},
   "outputs": [],
   "source": [
    "X_pred =pd.read_json(x_test.to_json())\n",
    "import joblib\n",
    "clf = joblib.load(f\"../models/model_xgboost_final2.pkl\")\n",
    "y_pred = clf.predict(X_pred)\n",
    "y_predproba = clf.predict_proba(X_pred)[:,1]\n",
    "X_pred[\"predictionIsGoal\"] = y_pred\n",
    "X_pred[\"probaIsGoal\"] = y_predproba\n",
    "response = X_pred[[\"probaIsGoal\",\"predictionIsGoal\"]].to_json()"
   ]
  },
  {
   "cell_type": "code",
   "execution_count": 103,
   "id": "15661c68-e398-46eb-9f95-37bca599ccff",
   "metadata": {},
   "outputs": [],
   "source": [
    "r = requests.post(\"http://127.0.0.1:8890/predict\",  json=json.loads(x_test.to_json()))"
   ]
  },
  {
   "cell_type": "code",
   "execution_count": 107,
   "id": "57b670ab-5af8-4229-88fa-6f9cb6f4adf9",
   "metadata": {},
   "outputs": [
    {
     "data": {
      "text/html": [
       "<div>\n",
       "<style scoped>\n",
       "    .dataframe tbody tr th:only-of-type {\n",
       "        vertical-align: middle;\n",
       "    }\n",
       "\n",
       "    .dataframe tbody tr th {\n",
       "        vertical-align: top;\n",
       "    }\n",
       "\n",
       "    .dataframe thead th {\n",
       "        text-align: right;\n",
       "    }\n",
       "</style>\n",
       "<table border=\"1\" class=\"dataframe\">\n",
       "  <thead>\n",
       "    <tr style=\"text-align: right;\">\n",
       "      <th></th>\n",
       "      <th>probaIsGoal</th>\n",
       "      <th>predictionIsGoal</th>\n",
       "    </tr>\n",
       "  </thead>\n",
       "  <tbody>\n",
       "    <tr>\n",
       "      <th>0</th>\n",
       "      <td>0.017469</td>\n",
       "      <td>0</td>\n",
       "    </tr>\n",
       "    <tr>\n",
       "      <th>1</th>\n",
       "      <td>0.050124</td>\n",
       "      <td>0</td>\n",
       "    </tr>\n",
       "    <tr>\n",
       "      <th>2</th>\n",
       "      <td>0.039808</td>\n",
       "      <td>0</td>\n",
       "    </tr>\n",
       "    <tr>\n",
       "      <th>3</th>\n",
       "      <td>0.070791</td>\n",
       "      <td>0</td>\n",
       "    </tr>\n",
       "    <tr>\n",
       "      <th>4</th>\n",
       "      <td>0.058398</td>\n",
       "      <td>0</td>\n",
       "    </tr>\n",
       "    <tr>\n",
       "      <th>...</th>\n",
       "      <td>...</td>\n",
       "      <td>...</td>\n",
       "    </tr>\n",
       "    <tr>\n",
       "      <th>69618</th>\n",
       "      <td>0.102697</td>\n",
       "      <td>0</td>\n",
       "    </tr>\n",
       "    <tr>\n",
       "      <th>69619</th>\n",
       "      <td>0.125231</td>\n",
       "      <td>0</td>\n",
       "    </tr>\n",
       "    <tr>\n",
       "      <th>69620</th>\n",
       "      <td>0.191287</td>\n",
       "      <td>0</td>\n",
       "    </tr>\n",
       "    <tr>\n",
       "      <th>69621</th>\n",
       "      <td>0.215210</td>\n",
       "      <td>0</td>\n",
       "    </tr>\n",
       "    <tr>\n",
       "      <th>69622</th>\n",
       "      <td>0.079243</td>\n",
       "      <td>0</td>\n",
       "    </tr>\n",
       "  </tbody>\n",
       "</table>\n",
       "<p>69623 rows × 2 columns</p>\n",
       "</div>"
      ],
      "text/plain": [
       "       probaIsGoal  predictionIsGoal\n",
       "0         0.017469                 0\n",
       "1         0.050124                 0\n",
       "2         0.039808                 0\n",
       "3         0.070791                 0\n",
       "4         0.058398                 0\n",
       "...            ...               ...\n",
       "69618     0.102697                 0\n",
       "69619     0.125231                 0\n",
       "69620     0.191287                 0\n",
       "69621     0.215210                 0\n",
       "69622     0.079243                 0\n",
       "\n",
       "[69623 rows x 2 columns]"
      ]
     },
     "execution_count": 107,
     "metadata": {},
     "output_type": "execute_result"
    }
   ],
   "source": [
    "pd.DataFrame(json.loads(r.json()))"
   ]
  }
 ],
 "metadata": {
  "kernelspec": {
   "display_name": "Python 3 (ipykernel)",
   "language": "python",
   "name": "python3"
  },
  "language_info": {
   "codemirror_mode": {
    "name": "ipython",
    "version": 3
   },
   "file_extension": ".py",
   "mimetype": "text/x-python",
   "name": "python",
   "nbconvert_exporter": "python",
   "pygments_lexer": "ipython3",
   "version": "3.9.12"
  }
 },
 "nbformat": 4,
 "nbformat_minor": 5
}
